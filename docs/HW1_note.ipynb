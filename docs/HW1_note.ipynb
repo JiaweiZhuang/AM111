{
 "cells": [
  {
   "cell_type": "markdown",
   "metadata": {},
   "source": [
    "# Notes on Homework 1"
   ]
  },
  {
   "cell_type": "code",
   "execution_count": 1,
   "metadata": {
    "collapsed": true
   },
   "outputs": [],
   "source": [
    "format compact"
   ]
  },
  {
   "cell_type": "markdown",
   "metadata": {},
   "source": [
    "The last question asks you to use **boolean_print_TT_fn.m** (available on canvas) to print the truth table. Please read this additional note if you have trouble using this function."
   ]
  },
  {
   "cell_type": "markdown",
   "metadata": {},
   "source": [
    "## Function as an input variable"
   ]
  },
  {
   "cell_type": "markdown",
   "metadata": {},
   "source": [
    "Typically you pass data (e.g. scalars, arrays...) to a function. But the function `boolean_print_TT_fn()` accepts **another function** as the input variable."
   ]
  },
  {
   "cell_type": "markdown",
   "metadata": {},
   "source": [
    "### Inline function as an input variable\n",
    "\n",
    "Let's make two inline functions:"
   ]
  },
  {
   "cell_type": "code",
   "execution_count": 2,
   "metadata": {},
   "outputs": [],
   "source": [
    "func1 = @(a) a; \n",
    "func2 = @(a,b) a&b;"
   ]
  },
  {
   "cell_type": "markdown",
   "metadata": {},
   "source": [
    "`boolean_print_TT_fn(func,1)` prints the truth table for a function with a single input:"
   ]
  },
  {
   "cell_type": "code",
   "execution_count": 3,
   "metadata": {},
   "outputs": [
    {
     "name": "stdout",
     "output_type": "stream",
     "text": [
      "_____\n",
      "a|out\n",
      "0|0 \n",
      "1|1 \n"
     ]
    }
   ],
   "source": [
    "boolean_print_TT_fn(func1,1)"
   ]
  },
  {
   "cell_type": "markdown",
   "metadata": {},
   "source": [
    "`boolean_print_TT_fn(func,2)` prints the truth table for a function with two inputs:"
   ]
  },
  {
   "cell_type": "code",
   "execution_count": 4,
   "metadata": {},
   "outputs": [
    {
     "name": "stdout",
     "output_type": "stream",
     "text": [
      "_______\n",
      "a|b|out\n",
      "0|0| 0 \n",
      "0|1| 0 \n",
      "1|0| 0 \n",
      "1|1| 1 \n"
     ]
    }
   ],
   "source": [
    "boolean_print_TT_fn(func2,2)"
   ]
  },
  {
   "cell_type": "markdown",
   "metadata": {},
   "source": [
    "### Standard function as an input variable"
   ]
  },
  {
   "cell_type": "markdown",
   "metadata": {},
   "source": [
    "However, if you try to pass a standard function (i.e. defined in a separate file) to `boolean_print_TT_fn()`, it will throw you some weird error:"
   ]
  },
  {
   "cell_type": "code",
   "execution_count": 5,
   "metadata": {},
   "outputs": [
    {
     "name": "stdout",
     "output_type": "stream",
     "text": [
      "Created file '/Users/zhuangjw/Research/Computing/personal_web/AM111/docs/func2_fn.m'.\n"
     ]
    }
   ],
   "source": [
    "%%file func2_fn.m \n",
    "function s=func2_fn(a,b)\n",
    "    s = a&b;\n",
    "end"
   ]
  },
  {
   "cell_type": "code",
   "execution_count": 6,
   "metadata": {},
   "outputs": [
    {
     "name": "stderr",
     "output_type": "stream",
     "text": [
      "\u001b[0;31mNot enough input arguments.\n",
      "Error in func2_fn (line 2)\n",
      "    s = a&b;\n",
      "\u001b[0m"
     ]
    }
   ],
   "source": [
    "boolean_print_TT_fn(func2_fn,2)"
   ]
  },
  {
   "cell_type": "markdown",
   "metadata": {},
   "source": [
    "To fix this error, you can put `@` in front of your function, as suggested [here](https://www.mathworks.com/help/matlab/matlab_prog/pass-a-function-to-another-function.html)."
   ]
  },
  {
   "cell_type": "code",
   "execution_count": 7,
   "metadata": {},
   "outputs": [
    {
     "name": "stdout",
     "output_type": "stream",
     "text": [
      "_______\n",
      "a|b|out\n",
      "0|0| 0 \n",
      "0|1| 0 \n",
      "1|0| 0 \n",
      "1|1| 1 \n"
     ]
    }
   ],
   "source": [
    "boolean_print_TT_fn(@func2_fn,2)"
   ]
  },
  {
   "cell_type": "markdown",
   "metadata": {},
   "source": [
    "(That's MATLAB-specific design. Other languages like Python treat inline and standard functions in the same way.)"
   ]
  },
  {
   "cell_type": "markdown",
   "metadata": {},
   "source": [
    "## Print true table for half adder"
   ]
  },
  {
   "cell_type": "markdown",
   "metadata": {},
   "source": [
    "### Function with multiple return\n",
    "\n",
    "A Half adder has two return values. One way to return multiple values is"
   ]
  },
  {
   "cell_type": "code",
   "execution_count": 8,
   "metadata": {},
   "outputs": [
    {
     "name": "stdout",
     "output_type": "stream",
     "text": [
      "Created file '/Users/zhuangjw/Research/Computing/personal_web/AM111/docs/multi_return.m'.\n"
     ]
    }
   ],
   "source": [
    "%%file multi_return.m\n",
    "function [carry,s] = multi_return(a,b)\n",
    "    % This is not a corret adder! You should write your own!\n",
    "    carry = 0;\n",
    "    s = 1;\n",
    "end"
   ]
  },
  {
   "cell_type": "markdown",
   "metadata": {},
   "source": [
    "However, by default you only get the first output variable `carry` !"
   ]
  },
  {
   "cell_type": "code",
   "execution_count": 9,
   "metadata": {},
   "outputs": [
    {
     "name": "stdout",
     "output_type": "stream",
     "text": [
      "ans =\n",
      "     0\n"
     ]
    }
   ],
   "source": [
    "multi_return(0,0)"
   ]
  },
  {
   "cell_type": "markdown",
   "metadata": {},
   "source": [
    "To get both `carry` and `s`, you have to use two variables to hold the output results."
   ]
  },
  {
   "cell_type": "code",
   "execution_count": 10,
   "metadata": {},
   "outputs": [
    {
     "name": "stdout",
     "output_type": "stream",
     "text": [
      "out1 =\n",
      "     0\n",
      "out2 =\n",
      "     1\n"
     ]
    }
   ],
   "source": [
    "[out1, out2] = multi_return(0,0)"
   ]
  },
  {
   "cell_type": "markdown",
   "metadata": {},
   "source": [
    "A perhaps more convenient way is to return a vector containing all outputs you need:"
   ]
  },
  {
   "cell_type": "code",
   "execution_count": 11,
   "metadata": {},
   "outputs": [
    {
     "name": "stdout",
     "output_type": "stream",
     "text": [
      "Created file '/Users/zhuangjw/Research/Computing/personal_web/AM111/docs/fake_half_adder.m'.\n"
     ]
    }
   ],
   "source": [
    "%%file fake_half_adder.m \n",
    "function out = fake_half_adder(a,b)\n",
    "    % This is not a corret adder! You should write your own!\n",
    "    carry = 0;\n",
    "    s = 1;\n",
    "    out = [carry,s];\n",
    "end"
   ]
  },
  {
   "cell_type": "markdown",
   "metadata": {},
   "source": [
    "This time, you don't have to write two variables to hold the output results:"
   ]
  },
  {
   "cell_type": "code",
   "execution_count": 12,
   "metadata": {},
   "outputs": [
    {
     "name": "stdout",
     "output_type": "stream",
     "text": [
      "ans =\n",
      "     0     1\n"
     ]
    }
   ],
   "source": [
    "fake_half_adder(1,1)"
   ]
  },
  {
   "cell_type": "markdown",
   "metadata": {},
   "source": [
    "### Print truth table using boolean_print_TT_fn.m\n",
    "\n",
    "`boolean_print_TT_fn()` will print the complete result **only if** you use a single vector as the return value for you adder. Use `3` to get the format for half-adder."
   ]
  },
  {
   "cell_type": "code",
   "execution_count": 13,
   "metadata": {},
   "outputs": [
    {
     "name": "stdout",
     "output_type": "stream",
     "text": [
      "_____________\n",
      "a|b|carry|sum\n",
      "0|0| 0 \n",
      "0|1| 0 \n",
      "1|0| 0 \n",
      "1|1| 0 \n"
     ]
    }
   ],
   "source": [
    "boolean_print_TT_fn(@multi_return,3) % not printing complete result"
   ]
  },
  {
   "cell_type": "code",
   "execution_count": 14,
   "metadata": {},
   "outputs": [
    {
     "name": "stdout",
     "output_type": "stream",
     "text": [
      "_____________\n",
      "a|b|carry|sum\n",
      "0|0| 0  1 \n",
      "0|1| 0  1 \n",
      "1|0| 0  1 \n",
      "1|1| 0  1 \n"
     ]
    }
   ],
   "source": [
    "boolean_print_TT_fn(@fake_half_adder,3) % can print complete result"
   ]
  },
  {
   "cell_type": "markdown",
   "metadata": {},
   "source": [
    "### Print truth table on your own\n",
    "\n",
    "If you don't want to use boolean_print_TT_fn.m, it is also quite straightforward to print the table on your own:"
   ]
  },
  {
   "cell_type": "code",
   "execution_count": 15,
   "metadata": {},
   "outputs": [
    {
     "name": "stdout",
     "output_type": "stream",
     "text": [
      "a,b|c,s\n",
      "0,0|0,1 \n",
      "0,1|0,1 \n",
      "1,0|0,1 \n",
      "1,1|0,1 \n"
     ]
    }
   ],
   "source": [
    "disp('a,b|c,s')\n",
    "for a=0:1\n",
    "for b=0:1\n",
    "    fprintf('%d,%d|%d,%d \\n',a,b,fake_half_adder(a,b))\n",
    "end\n",
    "end"
   ]
  },
  {
   "cell_type": "markdown",
   "metadata": {},
   "source": [
    "Type `doc fprintf` to see more formatting options."
   ]
  },
  {
   "cell_type": "markdown",
   "metadata": {},
   "source": [
    "## Print true table for full adder\n",
    "\n",
    "Use `4` to get the format for full-adder."
   ]
  },
  {
   "cell_type": "code",
   "execution_count": 16,
   "metadata": {},
   "outputs": [
    {
     "name": "stdout",
     "output_type": "stream",
     "text": [
      "Created file '/Users/zhuangjw/Research/Computing/personal_web/AM111/docs/fake_full_adder.m'.\n"
     ]
    }
   ],
   "source": [
    "%%file fake_full_adder.m \n",
    "function out = fake_full_adder(a,b,c)\n",
    "    carry = 0;\n",
    "    s = 1;\n",
    "    out = [carry,s];\n",
    "end"
   ]
  },
  {
   "cell_type": "code",
   "execution_count": 17,
   "metadata": {},
   "outputs": [
    {
     "name": "stdout",
     "output_type": "stream",
     "text": [
      "________________\n",
      "a|b|c|carry|sum\n",
      "0|0|0|0  1 \n",
      "0|0|1|0  1 \n",
      "0|1|0|0  1 \n",
      "0|1|1|0  1 \n",
      "1|0|0|0  1 \n",
      "1|0|1|0  1 \n",
      "1|1|0|0  1 \n",
      "1|1|1|0  1 \n"
     ]
    }
   ],
   "source": [
    "boolean_print_TT_fn(@fake_full_adder,4)"
   ]
  }
 ],
 "metadata": {
  "kernelspec": {
   "display_name": "Matlab",
   "language": "matlab",
   "name": "matlab"
  },
  "language_info": {
   "codemirror_mode": "octave",
   "file_extension": ".m",
   "help_links": [
    {
     "text": "MetaKernel Magics",
     "url": "https://github.com/calysto/metakernel/blob/master/metakernel/magics/README.md"
    }
   ],
   "mimetype": "text/x-matlab",
   "name": "matlab",
   "version": "0.14.3"
  }
 },
 "nbformat": 4,
 "nbformat_minor": 2
}
