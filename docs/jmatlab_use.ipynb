{
 "cells": [
  {
   "cell_type": "markdown",
   "metadata": {},
   "source": [
    "# Use MATLAB in Jupyter Notebooks"
   ]
  },
  {
   "cell_type": "markdown",
   "metadata": {},
   "source": [
    "[Jupyter Notebook](http://jupyter.org) is a great tool for interactive computing. It allows you to combine codes, simulation results, and descriptions such as latex equations in a single file. It works for [many languages](https://github.com/jupyter/jupyter/wiki/Jupyter-kernels) including MATLAB, the choice of this class.\n",
    "\n",
    "For installation, see [Install Jupyter-MATLAB](./jmatlab_install.ipynb)."
   ]
  },
  {
   "cell_type": "markdown",
   "metadata": {},
   "source": [
    "## Jupyter basics\n",
    "\n",
    "The most commonly used Jupyter commands are\n",
    "\n",
    "- enter -- (in command mode) enter edit mode\n",
    "- shift+enter -- (in edit mode) execute current cell\n",
    "- esc -- (in edit mode) enter command mode, so you can use arrow keys to move to other cells\n",
    "- b -- (in command mode) insert empty cell below\n",
    "- x -- (in command mode) cut current cell\n",
    "- v -- (in command mode) paste the cell you've cut\n",
    "- esc+m/y -- change current code cell to markdown cell / reverse\n",
    "\n",
    "For all commands see \"Help\" - \"Keyboard shortcuts\" in the toolbar."
   ]
  },
  {
   "cell_type": "markdown",
   "metadata": {},
   "source": [
    "## Printing formats"
   ]
  },
  {
   "cell_type": "markdown",
   "metadata": {},
   "source": [
    "The default output format is \"loose\", which takes a lot of space."
   ]
  },
  {
   "cell_type": "code",
   "execution_count": 1,
   "metadata": {},
   "outputs": [
    {
     "name": "stdout",
     "output_type": "stream",
     "text": [
      "\n",
      "ans =\n",
      "\n",
      "     2\n",
      "\n",
      "\n",
      "ans =\n",
      "\n",
      "     3\n",
      "\n"
     ]
    }
   ],
   "source": [
    "format loose\n",
    "for i=1:2\n",
    "    i+1\n",
    "end"
   ]
  },
  {
   "cell_type": "markdown",
   "metadata": {},
   "source": [
    "\"compact\" is a better option for notebook."
   ]
  },
  {
   "cell_type": "code",
   "execution_count": 2,
   "metadata": {},
   "outputs": [
    {
     "name": "stdout",
     "output_type": "stream",
     "text": [
      "ans =\n",
      "     2\n",
      "ans =\n",
      "     3\n"
     ]
    }
   ],
   "source": [
    "format compact\n",
    "for i=1:2\n",
    "    i+1\n",
    "end"
   ]
  },
  {
   "cell_type": "markdown",
   "metadata": {},
   "source": [
    "## Use help functions"
   ]
  },
  {
   "cell_type": "markdown",
   "metadata": {},
   "source": [
    "\"help\" will print docs inside the notebook, same as Python's help( )"
   ]
  },
  {
   "cell_type": "code",
   "execution_count": 3,
   "metadata": {},
   "outputs": [
    {
     "name": "stdout",
     "output_type": "stream",
     "text": [
      " SIN    Sine of argument in radians.\n",
      "    SIN(X) is the sine of the elements of X.\n",
      " \n",
      "    See also ASIN, SIND.\n",
      "\n",
      "    Reference page in Doc Center\n",
      "       doc sin\n",
      "\n",
      "    Other functions named sin\n",
      "\n",
      "       codistributed/sin    gpuArray/sin    sym/sin\n",
      "\n"
     ]
    }
   ],
   "source": [
    "help sin"
   ]
  },
  {
   "cell_type": "markdown",
   "metadata": {},
   "source": [
    "\"?\" will prompt a small text window, same as IPython magic \"?\". (not shown on the webpage)"
   ]
  },
  {
   "cell_type": "code",
   "execution_count": 4,
   "metadata": {
    "collapsed": true
   },
   "outputs": [],
   "source": [
    "?sin"
   ]
  },
  {
   "cell_type": "markdown",
   "metadata": {},
   "source": [
    "\"doc\" will prompt MATLAB's detailed documentations. (not shown on the webpage)"
   ]
  },
  {
   "cell_type": "code",
   "execution_count": 5,
   "metadata": {
    "collapsed": true
   },
   "outputs": [],
   "source": [
    "doc sin"
   ]
  },
  {
   "cell_type": "markdown",
   "metadata": {},
   "source": [
    "## Plotting"
   ]
  },
  {
   "cell_type": "markdown",
   "metadata": {},
   "source": [
    "Make a cool surface for plotting :)"
   ]
  },
  {
   "cell_type": "code",
   "execution_count": 6,
   "metadata": {
    "collapsed": true
   },
   "outputs": [],
   "source": [
    "tx = linspace (-8, 8, 41);\n",
    "ty = tx;\n",
    "[xx, yy] = meshgrid (tx, ty);\n",
    "r = sqrt (xx .^ 2 + yy .^ 2) + eps;\n",
    "tz = sin (r) ./ r;"
   ]
  },
  {
   "cell_type": "markdown",
   "metadata": {},
   "source": [
    "The \"%plot inline\" magic (default) will plot inside the notebook, same as \"%matplotlib inline\" in IPython."
   ]
  },
  {
   "cell_type": "code",
   "execution_count": 7,
   "metadata": {},
   "outputs": [
    {
     "data": {
      "image/png": "[encoded data removed]",
      "text/plain": [
       "<IPython.core.display.Image object>"
      ]
     },
     "metadata": {},
     "output_type": "display_data"
    }
   ],
   "source": [
    "%plot inline\n",
    "mesh(tx, ty, tz);"
   ]
  },
  {
   "cell_type": "markdown",
   "metadata": {},
   "source": [
    "The \"%plot native\" magic will plot in an external window as the original MATLAB's interface, which allows you to rotate, zoom in/out (not shown on the webpage)."
   ]
  },
  {
   "cell_type": "code",
   "execution_count": 8,
   "metadata": {
    "collapsed": true
   },
   "outputs": [],
   "source": [
    "%plot native\n",
    "mesh(tx, ty, tz);"
   ]
  },
  {
   "cell_type": "markdown",
   "metadata": {},
   "source": [
    "You can still use \"close all\" to close the window that was opened by cell above."
   ]
  },
  {
   "cell_type": "code",
   "execution_count": 9,
   "metadata": {
    "collapsed": true
   },
   "outputs": [],
   "source": [
    "close all"
   ]
  },
  {
   "cell_type": "markdown",
   "metadata": {},
   "source": [
    "\"?%plot\" will show more plotting options including how to control the figure size (not shown on the webpage)"
   ]
  },
  {
   "cell_type": "code",
   "execution_count": 10,
   "metadata": {
    "collapsed": true
   },
   "outputs": [],
   "source": [
    "?%plot"
   ]
  },
  {
   "cell_type": "markdown",
   "metadata": {},
   "source": [
    "## User-defined functions"
   ]
  },
  {
   "cell_type": "markdown",
   "metadata": {},
   "source": [
    "For Python programmers it is so common to define a custom function inside a notebook and reuse it over and over again. \n",
    "\n",
    "A ridiculous design of MATLAB is the function has to be in a separate file, with the function name being the file name. [Local functions are allowed since R2016b](https://www.mathworks.com/help/matlab/matlab_prog/local-functions-in-scripts.html), but it has many restrictions and doesn't work in either Jupyter Notebook or MATLAB's own Live Script."
   ]
  },
  {
   "cell_type": "markdown",
   "metadata": {},
   "source": [
    "### Inline functions\n",
    "\n",
    "By default, matlab only allows **inline functions** within a script. "
   ]
  },
  {
   "cell_type": "code",
   "execution_count": 11,
   "metadata": {
    "collapsed": true
   },
   "outputs": [],
   "source": [
    "f=@(x) x^3+x-1;"
   ]
  },
  {
   "cell_type": "markdown",
   "metadata": {},
   "source": [
    "We can easily find the root of such a function."
   ]
  },
  {
   "cell_type": "code",
   "execution_count": 12,
   "metadata": {},
   "outputs": [
    {
     "name": "stdout",
     "output_type": "stream",
     "text": [
      " \n",
      " Func-count    x          f(x)             Procedure\n",
      "    2               1             1        initial\n",
      "    3             0.5        -0.375        bisection\n",
      "    4        0.636364     -0.105935        interpolation\n",
      "    5         0.68491    0.00620153        interpolation\n",
      "    6        0.682225  -0.000246683        interpolation\n",
      "    7        0.682328  -5.43508e-07        interpolation\n",
      "    8        0.682328   1.50102e-13        interpolation\n",
      "    9        0.682328             0        interpolation\n",
      " \n",
      "Zero found in the interval [0, 1]\n",
      "ans =\n",
      "    0.6823\n"
     ]
    }
   ],
   "source": [
    "fzero(f,[0 1],optimset('Display','iter'))"
   ]
  },
  {
   "cell_type": "markdown",
   "metadata": {},
   "source": [
    "### Standard functions"
   ]
  },
  {
   "cell_type": "markdown",
   "metadata": {},
   "source": [
    "But inline functions must only contain a single statement, too limited in most cases.\n",
    "\n",
    "If you try to define a standard function, it will fail:"
   ]
  },
  {
   "cell_type": "code",
   "execution_count": 13,
   "metadata": {},
   "outputs": [
    {
     "name": "stderr",
     "output_type": "stream",
     "text": [
      "\u001b[0;31mError: Function definitions are not permitted in this context.\n",
      "\u001b[0m"
     ]
    }
   ],
   "source": [
    "function p = multi_line_func(a,b)\n",
    "    a = a+1;\n",
    "    b = b+1;\n",
    "    p = a+b;\n",
    "end"
   ]
  },
  {
   "cell_type": "markdown",
   "metadata": {},
   "source": [
    "Fortunately, Jupyter's \"%%file\" magic allows us to write a code cell to a file."
   ]
  },
  {
   "cell_type": "code",
   "execution_count": 14,
   "metadata": {},
   "outputs": [
    {
     "name": "stdout",
     "output_type": "stream",
     "text": [
      "Created file '/Users/zhuangjw/Research/Computing/personal_web/matlab_code/multi_line_func.m'.\n"
     ]
    }
   ],
   "source": [
    "%%file multi_line_func.m\n",
    "\n",
    "function p = multi_line_func(a,b)\n",
    "    % in-file comments can be added like this\n",
    "    a = a+1;\n",
    "    b = b+1;\n",
    "    p = a+b;\n",
    "end"
   ]
  },
  {
   "cell_type": "markdown",
   "metadata": {},
   "source": [
    "The output file and this Notebook will be in the same directory, so you can call it directly, as if this function is defined inside the notebook."
   ]
  },
  {
   "cell_type": "code",
   "execution_count": 15,
   "metadata": {},
   "outputs": [
    {
     "name": "stdout",
     "output_type": "stream",
     "text": [
      "ans =\n",
      "     4\n"
     ]
    }
   ],
   "source": [
    "multi_line_func(1,1)"
   ]
  },
  {
   "cell_type": "markdown",
   "metadata": {},
   "source": [
    "By doing this, you get Python-like working environment -- create a function, test it with several input parameters, go back to edit the function and test it again. This [REPL](https://en.wikipedia.org/wiki/Read–eval–print_loop) workflow will greatly speed-up your prototyping.\n",
    "\n",
    "It might take 1~2 seconds for a function cell to take effect, because we are writting files to disk. But you **don't** need to restart the kernel to activate any modifications to your function."
   ]
  },
  {
   "cell_type": "markdown",
   "metadata": {},
   "source": [
    "**warning:** you should avoid adding a MATLAB comment (start with %) at the beginning of a cell, because it might be interpreted as Jupyter magic and thus confuse the kernel."
   ]
  },
  {
   "cell_type": "markdown",
   "metadata": {},
   "source": [
    "## Markdown cells"
   ]
  },
  {
   "cell_type": "markdown",
   "metadata": {},
   "source": [
    "Markdown cells are a great way to add descriptions to your codes. Here are examples stolen from the official document. See [Jupyter notebook's document](http://jupyter-notebook.readthedocs.io/en/latest/examples/Notebook/Working%20With%20Markdown%20Cells.html) for details."
   ]
  },
  {
   "cell_type": "markdown",
   "metadata": {},
   "source": [
    "### Latex equations"
   ]
  },
  {
   "cell_type": "markdown",
   "metadata": {},
   "source": [
    "How to write an inline eqution: `$e^{i\\pi} + 1 = 0$`\n",
    "\n",
    "Result: $e^{i\\pi} + 1 = 0$\n",
    "\n",
    "\n",
    "\n",
    "How to write a standalone equation:\n",
    "\n",
    "`$$e^x=\\sum_{i=0}^\\infty \\frac{1}{i!}x^i$$`\n",
    "\n",
    "Result: \n",
    "$$e^x=\\sum_{i=0}^\\infty \\frac{1}{i!}x^i$$"
   ]
  },
  {
   "cell_type": "markdown",
   "metadata": {},
   "source": [
    "### Tables"
   ]
  },
  {
   "cell_type": "markdown",
   "metadata": {},
   "source": [
    "How to make a table:\n",
    "\n",
    "    | This | is   |\n",
    "    |------|------|\n",
    "    |   a  | table|\n",
    "\n",
    "Result:\n",
    "\n",
    "| This | is   |\n",
    "|------|------|\n",
    "|   a  | table|"
   ]
  },
  {
   "cell_type": "markdown",
   "metadata": {},
   "source": [
    "### Not-executing codes"
   ]
  },
  {
   "cell_type": "markdown",
   "metadata": {},
   "source": [
    "You can put your codes inside a markdown cell, to only show the codes without executing them. \n",
    "\n",
    "Here's the way to get syntax highlighting for python codes:\n",
    "\n",
    "    ```python\n",
    "    python codes\n",
    "    ```\n",
    "\n",
    "\"MATLAB\" is not a  highlighting option, but you can use \"OCTAVE\", an open-source clone of MATLAB, to get the same effect.\n",
    "\n",
    "    ```OCTAVE\n",
    "    disp(\"Hello World\")\n",
    "    for i=1:2\n",
    "     i+1\n",
    "    end\n",
    "    ```\n",
    "\n",
    "Result:\n",
    "```OCTAVE\n",
    "disp(\"Hello World\")\n",
    "for i=1:2\n",
    "    i+1\n",
    "end\n",
    "```"
   ]
  },
  {
   "cell_type": "markdown",
   "metadata": {},
   "source": [
    "### Headings\n",
    "\n",
    "Headings are an important way to structure your notebook.\n",
    "\n",
    "    # Heading 1 \n",
    "    ## Heading 2\n",
    "    ### Heading 3\n",
    "    #### Heading 4"
   ]
  }
 ],
 "metadata": {
  "kernelspec": {
   "display_name": "Matlab",
   "language": "matlab",
   "name": "matlab"
  },
  "language_info": {
   "codemirror_mode": "octave",
   "file_extension": ".m",
   "help_links": [
    {
     "text": "MetaKernel Magics",
     "url": "https://github.com/calysto/metakernel/blob/master/metakernel/magics/README.md"
    }
   ],
   "mimetype": "text/x-matlab",
   "name": "matlab",
   "version": "0.14.3"
  }
 },
 "nbformat": 4,
 "nbformat_minor": 2
}
