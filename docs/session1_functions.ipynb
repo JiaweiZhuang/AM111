{
 "cells": [
  {
   "cell_type": "markdown",
   "metadata": {},
   "source": [
    "# Session 1: MATLAB Functions and Scripts\n",
    "\n",
    "Date: 09/11/2017, Monday"
   ]
  },
  {
   "cell_type": "code",
   "execution_count": 1,
   "metadata": {
    "collapsed": true
   },
   "outputs": [],
   "source": [
    "format compact"
   ]
  },
  {
   "cell_type": "markdown",
   "metadata": {},
   "source": [
    "MATLAB's function control can be somewhat confusing... Let me try to explain it."
   ]
  },
  {
   "cell_type": "markdown",
   "metadata": {},
   "source": [
    "## 3 ways to execute MATLAB codes\n",
    "\n",
    "You can run MATLAB codes in these ways:\n",
    "\n",
    "- Executing codes directly in the interactive console\n",
    "- Put codes in a **script** (an m-file), and execute the script in the console\n",
    "- Put codes in a **function** (also an m-file), and execute the function in the console"
   ]
  },
  {
   "cell_type": "markdown",
   "metadata": {},
   "source": [
    "### Executing codes directly"
   ]
  },
  {
   "cell_type": "markdown",
   "metadata": {},
   "source": [
    "You know how to run the codes in the interactive console:"
   ]
  },
  {
   "cell_type": "code",
   "execution_count": 2,
   "metadata": {},
   "outputs": [
    {
     "name": "stdout",
     "output_type": "stream",
     "text": [
      "ans =\n",
      "    12\n"
     ]
    }
   ],
   "source": [
    "a=1;\n",
    "b=2;\n",
    "2*a+5*b"
   ]
  },
  {
   "cell_type": "markdown",
   "metadata": {},
   "source": [
    "To avoid re-typing the formula `2*a+5*b` over and over again, you can create an inline function in the interative environment."
   ]
  },
  {
   "cell_type": "code",
   "execution_count": 3,
   "metadata": {},
   "outputs": [
    {
     "name": "stdout",
     "output_type": "stream",
     "text": [
      "f =\n",
      "  function_handle with value:\n",
      "    @(a,b)2*a+5*b\n"
     ]
    }
   ],
   "source": [
    "f = @(a,b) 2*a+5*b"
   ]
  },
  {
   "cell_type": "code",
   "execution_count": 4,
   "metadata": {},
   "outputs": [
    {
     "name": "stdout",
     "output_type": "stream",
     "text": [
      "ans =\n",
      "    12\n",
      "ans =\n",
      "    19\n"
     ]
    }
   ],
   "source": [
    "f(1,2)\n",
    "f(2,3)"
   ]
  },
  {
   "cell_type": "markdown",
   "metadata": {},
   "source": [
    "### Writing a script"
   ]
  },
  {
   "cell_type": "markdown",
   "metadata": {},
   "source": [
    "A script simply allows you to execute many lines of codes at once. It is not a **function**. There's no input and output variables.\n",
    "\n",
    "To open a new script, type \"edit\" in the console or click on the \"New\" Button. "
   ]
  },
  {
   "cell_type": "code",
   "execution_count": 5,
   "metadata": {
    "collapsed": true
   },
   "outputs": [],
   "source": [
    "edit"
   ]
  },
  {
   "cell_type": "markdown",
   "metadata": {},
   "source": [
    "Save the following code into a file with the suffix \".m\""
   ]
  },
  {
   "cell_type": "code",
   "execution_count": 6,
   "metadata": {},
   "outputs": [
    {
     "name": "stdout",
     "output_type": "stream",
     "text": [
      "Created file '/Users/zhuangjw/Research/Computing/personal_web/AM111/docs/my_script.m'.\n"
     ]
    }
   ],
   "source": [
    "%%file my_script.m\n",
    "a=1;\n",
    "b=2;\n",
    "2*a+5*b"
   ]
  },
  {
   "cell_type": "markdown",
   "metadata": {},
   "source": [
    "Execute the script by typing its file name in the console. Make sure your working directory is the same as the script's directory."
   ]
  },
  {
   "cell_type": "code",
   "execution_count": 7,
   "metadata": {},
   "outputs": [
    {
     "name": "stdout",
     "output_type": "stream",
     "text": [
      "ans =\n",
      "    12\n"
     ]
    }
   ],
   "source": [
    "my_script"
   ]
  },
  {
   "cell_type": "markdown",
   "metadata": {},
   "source": [
    "You can definitely change parameters `a, b` in your script and re-run the script over and over again. However, to have a better control on input arguments, you need to write a **function**, a not script."
   ]
  },
  {
   "cell_type": "markdown",
   "metadata": {},
   "source": [
    "### Writing a function"
   ]
  },
  {
   "cell_type": "markdown",
   "metadata": {},
   "source": [
    "A function is also a file with the suffix \".m\", same as a script. But it contains the `function` head which defines input and output parameters. The function name has to be the same as the file name."
   ]
  },
  {
   "cell_type": "code",
   "execution_count": 8,
   "metadata": {},
   "outputs": [
    {
     "name": "stdout",
     "output_type": "stream",
     "text": [
      "Created file '/Users/zhuangjw/Research/Computing/personal_web/AM111/docs/my_func.m'.\n"
     ]
    }
   ],
   "source": [
    "%%file my_func.m\n",
    "function s=my_func(a,b)\n",
    "    s = 2*a+5*b;\n",
    "end"
   ]
  },
  {
   "cell_type": "markdown",
   "metadata": {},
   "source": [
    "Now you can provide input arguments to your function."
   ]
  },
  {
   "cell_type": "code",
   "execution_count": 9,
   "metadata": {},
   "outputs": [
    {
     "name": "stdout",
     "output_type": "stream",
     "text": [
      "ans =\n",
      "    12\n"
     ]
    }
   ],
   "source": [
    "my_func(1,2)"
   ]
  },
  {
   "cell_type": "markdown",
   "metadata": {},
   "source": [
    "## Multi-level functions"
   ]
  },
  {
   "cell_type": "markdown",
   "metadata": {},
   "source": [
    "An m-file can contain multiple functions. But only the first one can be accessed from the outside. Others are only for internal use."
   ]
  },
  {
   "cell_type": "code",
   "execution_count": 10,
   "metadata": {},
   "outputs": [
    {
     "name": "stdout",
     "output_type": "stream",
     "text": [
      "Created file '/Users/zhuangjw/Research/Computing/personal_web/AM111/docs/mul_by_4.m'.\n"
     ]
    }
   ],
   "source": [
    "%%file mul_by_4.m\n",
    "\n",
    "function z=mul_by_4(x)\n",
    "    y = mul_by_2(x);\n",
    "    z = mul_by_2(y);\n",
    "end\n",
    "\n",
    "function y=mul_by_2(x)\n",
    "    y = 2*x;\n",
    "end"
   ]
  },
  {
   "cell_type": "markdown",
   "metadata": {},
   "source": [
    "You can call mul_by_4( ), but cannot call mul_by_2( )."
   ]
  },
  {
   "cell_type": "code",
   "execution_count": 11,
   "metadata": {},
   "outputs": [
    {
     "name": "stdout",
     "output_type": "stream",
     "text": [
      "ans =\n",
      "     8\n"
     ]
    }
   ],
   "source": [
    "mul_by_4(2)"
   ]
  },
  {
   "cell_type": "code",
   "execution_count": 12,
   "metadata": {},
   "outputs": [
    {
     "name": "stderr",
     "output_type": "stream",
     "text": [
      "\u001b[0;31mError using eval\n",
      "Undefined function 'mul_by_2' for input arguments of type 'double'.\n",
      "\u001b[0m"
     ]
    }
   ],
   "source": [
    "mul_by_2(2)"
   ]
  },
  {
   "cell_type": "markdown",
   "metadata": {},
   "source": [
    "Note: Since R2016b, you can also add [functions in scripts](https://www.mathworks.com/help/matlab/matlab_prog/local-functions-in-scripts.html). However, you had better avoid this usage for backward capability. Otherwise, people using an older version of MATLAB will have trouble running your code. Always create a separate file for your function."
   ]
  }
 ],
 "metadata": {
  "kernelspec": {
   "display_name": "Matlab",
   "language": "matlab",
   "name": "matlab"
  },
  "language_info": {
   "codemirror_mode": "octave",
   "file_extension": ".m",
   "help_links": [
    {
     "text": "MetaKernel Magics",
     "url": "https://github.com/calysto/metakernel/blob/master/metakernel/magics/README.md"
    }
   ],
   "mimetype": "text/x-matlab",
   "name": "matlab",
   "version": "0.14.3"
  }
 },
 "nbformat": 4,
 "nbformat_minor": 2
}
