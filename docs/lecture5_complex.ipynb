{
 "cells": [
  {
   "cell_type": "markdown",
   "metadata": {},
   "source": [
    "# Lecture 5: Random Numbers & Complex Numbers\n",
    "\n",
    "Date: 09/14/2017, Thursday"
   ]
  },
  {
   "cell_type": "code",
   "execution_count": 1,
   "metadata": {
    "collapsed": true
   },
   "outputs": [],
   "source": [
    "format compact"
   ]
  },
  {
   "cell_type": "markdown",
   "metadata": {},
   "source": [
    "## Built-in random number generator"
   ]
  },
  {
   "cell_type": "markdown",
   "metadata": {},
   "source": [
    "`rand` returns a random number between [0,1] (uniform distribution)."
   ]
  },
  {
   "cell_type": "code",
   "execution_count": 2,
   "metadata": {},
   "outputs": [
    {
     "name": "stdout",
     "output_type": "stream",
     "text": [
      "ans =\n",
      "    0.8147\n"
     ]
    }
   ],
   "source": [
    "rand"
   ]
  },
  {
   "cell_type": "markdown",
   "metadata": {},
   "source": [
    "`rand(N)` returns a $N \\times N$ random matrix. You can always type `doc rand` or `help rand` to see the detailed usage."
   ]
  },
  {
   "cell_type": "code",
   "execution_count": 3,
   "metadata": {},
   "outputs": [
    {
     "name": "stdout",
     "output_type": "stream",
     "text": [
      "ans =\n",
      "    0.9058    0.2785    0.9706    0.4218    0.0357\n",
      "    0.1270    0.5469    0.9572    0.9157    0.8491\n",
      "    0.9134    0.9575    0.4854    0.7922    0.9340\n",
      "    0.6324    0.9649    0.8003    0.9595    0.6787\n",
      "    0.0975    0.1576    0.1419    0.6557    0.7577\n"
     ]
    }
   ],
   "source": [
    "rand(5)"
   ]
  },
  {
   "cell_type": "markdown",
   "metadata": {},
   "source": [
    "`randi(N)` returns an integer between 1 and N."
   ]
  },
  {
   "cell_type": "code",
   "execution_count": 4,
   "metadata": {},
   "outputs": [
    {
     "name": "stdout",
     "output_type": "stream",
     "text": [
      "ans =\n",
      "    75\n"
     ]
    }
   ],
   "source": [
    "randi(100)"
   ]
  },
  {
   "cell_type": "markdown",
   "metadata": {},
   "source": [
    "`randn` uses normal distribution, instead of uniform distribution."
   ]
  },
  {
   "cell_type": "code",
   "execution_count": 5,
   "metadata": {},
   "outputs": [
    {
     "name": "stdout",
     "output_type": "stream",
     "text": [
      "ans =\n",
      "   -0.3034   -1.0689   -0.7549    0.3192    0.6277\n",
      "    0.2939   -0.8095    1.3703    0.3129    1.0933\n",
      "   -0.7873   -2.9443   -1.7115   -0.8649    1.1093\n",
      "    0.8884    1.4384   -0.1022   -0.0301   -0.8637\n",
      "   -1.1471    0.3252   -0.2414   -0.1649    0.0774\n"
     ]
    }
   ],
   "source": [
    "randn(5)"
   ]
  },
  {
   "cell_type": "markdown",
   "metadata": {},
   "source": [
    "## Complex numbers"
   ]
  },
  {
   "cell_type": "markdown",
   "metadata": {},
   "source": [
    "### Complex number basics"
   ]
  },
  {
   "cell_type": "markdown",
   "metadata": {},
   "source": [
    "A real number (double-precision) takes 8 Bytes (64 bits). A complex number is a pair of numbers so simply takes 16 Bytes (128 bits)"
   ]
  },
  {
   "cell_type": "code",
   "execution_count": 6,
   "metadata": {
    "collapsed": true
   },
   "outputs": [],
   "source": [
    "x = 3;\n",
    "y = 4;\n",
    "z = x+i*y;"
   ]
  },
  {
   "cell_type": "code",
   "execution_count": 7,
   "metadata": {},
   "outputs": [
    {
     "name": "stdout",
     "output_type": "stream",
     "text": [
      "  Name      Size            Bytes  Class     Attributes\n",
      "\n",
      "  ans       5x5               200  double              \n",
      "  x         1x1                 8  double              \n",
      "  y         1x1                 8  double              \n",
      "  z         1x1                16  double    complex   \n",
      "\n"
     ]
    }
   ],
   "source": [
    "whos"
   ]
  },
  {
   "cell_type": "markdown",
   "metadata": {},
   "source": [
    "Take conjugate of a complex number:"
   ]
  },
  {
   "cell_type": "code",
   "execution_count": 8,
   "metadata": {},
   "outputs": [
    {
     "name": "stdout",
     "output_type": "stream",
     "text": [
      "ans =\n",
      "   3.0000 - 4.0000i\n"
     ]
    }
   ],
   "source": [
    "conj(z)"
   ]
  },
  {
   "cell_type": "markdown",
   "metadata": {},
   "source": [
    "Show the number on the complex plane"
   ]
  },
  {
   "cell_type": "code",
   "execution_count": 9,
   "metadata": {},
   "outputs": [
    {
     "data": {
      "image/png": "[encoded data removed]",
      "text/plain": [
       "<IPython.core.display.Image object>"
      ]
     },
     "metadata": {},
     "output_type": "display_data"
    }
   ],
   "source": [
    "%plot --size 300,300\n",
    "hold on\n",
    "complex_number_plot_fn(conj(z)/5,'r') % complex_number_plot_fn is available on canvas.\n",
    "complex_number_plot_fn(z/5,'b')"
   ]
  },
  {
   "cell_type": "markdown",
   "metadata": {},
   "source": [
    "3 equivalent ways to compute $|z|$"
   ]
  },
  {
   "cell_type": "code",
   "execution_count": 10,
   "metadata": {},
   "outputs": [
    {
     "name": "stdout",
     "output_type": "stream",
     "text": [
      "ans =\n",
      "     5\n"
     ]
    }
   ],
   "source": [
    "abs(z)"
   ]
  },
  {
   "cell_type": "code",
   "execution_count": 11,
   "metadata": {},
   "outputs": [
    {
     "name": "stdout",
     "output_type": "stream",
     "text": [
      "ans =\n",
      "     5\n"
     ]
    }
   ],
   "source": [
    "sqrt(dot(z,z))"
   ]
  },
  {
   "cell_type": "code",
   "execution_count": 12,
   "metadata": {},
   "outputs": [
    {
     "name": "stdout",
     "output_type": "stream",
     "text": [
      "ans =\n",
      "     5\n"
     ]
    }
   ],
   "source": [
    "norm(z)"
   ]
  },
  {
   "cell_type": "markdown",
   "metadata": {},
   "source": [
    "The angle of z in degree:"
   ]
  },
  {
   "cell_type": "code",
   "execution_count": 13,
   "metadata": {},
   "outputs": [
    {
     "name": "stdout",
     "output_type": "stream",
     "text": [
      "ans =\n",
      "   53.1301\n"
     ]
    }
   ],
   "source": [
    "angle(z) / pi * 180.0"
   ]
  },
  {
   "cell_type": "markdown",
   "metadata": {},
   "source": [
    "### Euler's Formula\n",
    "\n",
    "$$\n",
    "e^{i\\theta} = \\cos(\\theta) + i\\sin(\\theta)\n",
    "$$"
   ]
  },
  {
   "cell_type": "markdown",
   "metadata": {},
   "source": [
    "Verify that MATLAB understands $e^{i\\theta}$"
   ]
  },
  {
   "cell_type": "code",
   "execution_count": 14,
   "metadata": {
    "collapsed": true
   },
   "outputs": [],
   "source": [
    "theta = linspace(0, 2*pi, 1e4);\n",
    "z = exp(i*theta); % now z is an array, not a scalar as defined in the previou section."
   ]
  },
  {
   "cell_type": "code",
   "execution_count": 15,
   "metadata": {},
   "outputs": [
    {
     "data": {
      "image/png": "[encoded data removed]",
      "text/plain": [
       "<IPython.core.display.Image object>"
      ]
     },
     "metadata": {},
     "output_type": "display_data"
    }
   ],
   "source": [
    "%plot --size 600,300\n",
    "hold on\n",
    "plot(theta,real(z))\n",
    "plot(theta,imag(z))"
   ]
  },
  {
   "cell_type": "markdown",
   "metadata": {},
   "source": [
    "### Mandelbrot set"
   ]
  },
  {
   "cell_type": "markdown",
   "metadata": {},
   "source": [
    "#### Iteration with a single parameter"
   ]
  },
  {
   "cell_type": "code",
   "execution_count": 16,
   "metadata": {
    "collapsed": true
   },
   "outputs": [],
   "source": [
    "c = rand-0.5 + i*(rand-0.5);\n",
    "\n",
    "T = 50;\n",
    "z_arr = zeros(T,1); % to hold the entire time series\n",
    "\n",
    "z = 0; % initial value\n",
    "z_arr(1) = z;\n",
    "\n",
    "for t=2:T\n",
    "    z = z^2+c;\n",
    "    z_arr(t) = z;\n",
    "end"
   ]
  },
  {
   "cell_type": "code",
   "execution_count": 17,
   "metadata": {},
   "outputs": [
    {
     "data": {
      "image/png": "[encoded data removed]",
      "text/plain": [
       "<IPython.core.display.Image object>"
      ]
     },
     "metadata": {},
     "output_type": "display_data"
    }
   ],
   "source": [
    "hold on\n",
    "plot(real(z_arr))\n",
    "plot(imag(z_arr))"
   ]
  },
  {
   "cell_type": "markdown",
   "metadata": {},
   "source": [
    "Run this code repeatedly, you will see sometimes $z$ will blow up, sometime not, according to the initial value of $c$. Thus we want to figure out what values of $c$ will make $z$ blow up. "
   ]
  },
  {
   "cell_type": "markdown",
   "metadata": {
    "collapsed": true
   },
   "source": [
    "#### Iteration with the entire paremeter space"
   ]
  },
  {
   "cell_type": "markdown",
   "metadata": {},
   "source": [
    "We want to construct a 2D array containing all possible values of $c$ on the complex plane. \n",
    "\n",
    "Let's make 1D grids first."
   ]
  },
  {
   "cell_type": "code",
   "execution_count": 18,
   "metadata": {
    "collapsed": true
   },
   "outputs": [],
   "source": [
    "nx = 100;\n",
    "xm = 1.75;\n",
    "x = linspace(-xm, xm, nx);\n",
    "y = linspace(-xm, xm, nx);"
   ]
  },
  {
   "cell_type": "code",
   "execution_count": 19,
   "metadata": {},
   "outputs": [
    {
     "name": "stdout",
     "output_type": "stream",
     "text": [
      "ans =\n",
      "     1   100\n",
      "ans =\n",
      "     1   100\n"
     ]
    }
   ],
   "source": [
    "size(x), size(y)"
   ]
  },
  {
   "cell_type": "markdown",
   "metadata": {},
   "source": [
    "convert 1D grid to 2D grid."
   ]
  },
  {
   "cell_type": "code",
   "execution_count": 20,
   "metadata": {
    "collapsed": true
   },
   "outputs": [],
   "source": [
    "[Cr, Ci] = meshgrid(x,y);"
   ]
  },
  {
   "cell_type": "code",
   "execution_count": 21,
   "metadata": {},
   "outputs": [
    {
     "name": "stdout",
     "output_type": "stream",
     "text": [
      "ans =\n",
      "   100   100\n",
      "ans =\n",
      "   100   100\n"
     ]
    }
   ],
   "source": [
    "size(Cr), size(Ci)"
   ]
  },
  {
   "cell_type": "code",
   "execution_count": 22,
   "metadata": {
    "collapsed": true
   },
   "outputs": [],
   "source": [
    "C = Cr + i*Ci; % now C spans over the complex plane"
   ]
  },
  {
   "cell_type": "code",
   "execution_count": 23,
   "metadata": {},
   "outputs": [
    {
     "name": "stdout",
     "output_type": "stream",
     "text": [
      "ans =\n",
      "   100   100\n"
     ]
    }
   ],
   "source": [
    "size(C)"
   ]
  },
  {
   "cell_type": "markdown",
   "metadata": {},
   "source": [
    "Run the iteration for every value of C"
   ]
  },
  {
   "cell_type": "code",
   "execution_count": 24,
   "metadata": {
    "collapsed": true
   },
   "outputs": [],
   "source": [
    "T = 50;\n",
    "\n",
    "Z_final = zeros(nx,nx); % to hold last value of z, at all possible points.\n",
    "\n",
    "for ix = 1:nx\n",
    "for iy = 1:nx % we also have nx points in the y-direction\n",
    "\n",
    "    % get the value of c at current point. \n",
    "    % note that MATLAB is case-sensitive\n",
    "    c = C(ix,iy);\n",
    "    \n",
    "    z = 0; % initial value, doesn't matter too much\n",
    "    for t=2:T\n",
    "        z = z^2+c;\n",
    "    end\n",
    "    Z_final(ix,iy) = z; % save the last value of z\n",
    "    \n",
    "end\n",
    "end"
   ]
  },
  {
   "cell_type": "markdown",
   "metadata": {},
   "source": [
    "Here's one way to visualize the result."
   ]
  },
  {
   "cell_type": "code",
   "execution_count": 25,
   "metadata": {},
   "outputs": [
    {
     "data": {
      "image/png": "[encoded data removed]",
      "text/plain": [
       "<IPython.core.display.Image object>"
      ]
     },
     "metadata": {},
     "output_type": "display_data"
    }
   ],
   "source": [
    "pcolor(abs(Z_final)); % plot the magnitude of z\n",
    "\n",
    "shading flat; % hide grids\n",
    "colormap jet; % change colormap\n",
    "colorbar; % show colorbar\n",
    "\n",
    "% The default color range is min(z)~max(z),\n",
    "% but max(z) is almost Inf so we make the range smaller \n",
    "caxis([0,2]); "
   ]
  }
 ],
 "metadata": {
  "kernelspec": {
   "display_name": "Matlab",
   "language": "matlab",
   "name": "matlab"
  },
  "language_info": {
   "codemirror_mode": "octave",
   "file_extension": ".m",
   "help_links": [
    {
     "text": "MetaKernel Magics",
     "url": "https://github.com/calysto/metakernel/blob/master/metakernel/magics/README.md"
    }
   ],
   "mimetype": "text/x-matlab",
   "name": "matlab",
   "version": "0.14.3"
  }
 },
 "nbformat": 4,
 "nbformat_minor": 2
}
