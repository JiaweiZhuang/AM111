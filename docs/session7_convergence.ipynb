{
 "cells": [
  {
   "cell_type": "markdown",
   "metadata": {},
   "source": [
    "# Session 7: Error convergence of numerical methods\n",
    "\n",
    "Date: 10/30/2017, Monday"
   ]
  },
  {
   "cell_type": "code",
   "execution_count": 1,
   "metadata": {
    "collapsed": true
   },
   "outputs": [],
   "source": [
    "format compact"
   ]
  },
  {
   "cell_type": "markdown",
   "metadata": {},
   "source": [
    "## Error convergence of general numerical methods"
   ]
  },
  {
   "cell_type": "markdown",
   "metadata": {},
   "source": [
    "Many numerical methods has a \"step size\" or \"interval size\" $h$, no mattter numerical differentiation, numerical intergration or ODE solving. We denote $f(h)$ as the numerical approximation to the exact answer $f_{true}$. Note that $f$ can be a derivate, an integral or an ODE solution.\n",
    "\n",
    "In general, the numerical error gets smaller when $h$ is reduced. We say a method has $O(h^k)$ convergence if\n",
    "$$\n",
    "f(h) - f_{true} = C \\cdot h^k + C_1 \\cdot h^{k+1} + ...\n",
    "$$\n",
    "\n",
    "As $h \\rightarrow 0$, we will have $f(h) \\rightarrow f_{true}$. Higher-order methods (i.e. larger $k$) leads to faster convergence."
   ]
  },
  {
   "cell_type": "markdown",
   "metadata": {},
   "source": [
    "## Error convergence of numerical differentiation"
   ]
  },
  {
   "cell_type": "markdown",
   "metadata": {},
   "source": [
    "Consider $f(x) = e^x$, we use finite difference to approximate $g(x)=f'(x)=e^x$. We only consider $x=1$ here."
   ]
  },
  {
   "cell_type": "code",
   "execution_count": 2,
   "metadata": {
    "collapsed": true
   },
   "outputs": [],
   "source": [
    "f = @(x) exp(x); % the function we want to differentiate"
   ]
  },
  {
   "cell_type": "code",
   "execution_count": 3,
   "metadata": {},
   "outputs": [
    {
     "name": "stdout",
     "output_type": "stream",
     "text": [
      "g_true =\n",
      "    2.7183\n"
     ]
    }
   ],
   "source": [
    "x0 = 1; % only consider this point\n",
    "g_true = exp(x0) % analytical solution"
   ]
  },
  {
   "cell_type": "markdown",
   "metadata": {},
   "source": [
    "We try both forward and center schemes, with different step sizes $h$."
   ]
  },
  {
   "cell_type": "code",
   "execution_count": 4,
   "metadata": {
    "collapsed": true
   },
   "outputs": [],
   "source": [
    "h_list = 0.01:0.01:0.1; % test different step size h\n",
    "n = length(h_list);\n",
    "g_forward = zeros(1,n); % to hold forward difference results\n",
    "g_center = zeros(1,n); % to hold center difference results\n",
    "\n",
    "for i = 1:n % loop over different step sizes\n",
    "    h = h_list(i); % get step size \n",
    "    \n",
    "    % forward difference\n",
    "    g_forward(i) = (f(x0+h) - f(x0))/h;  \n",
    "    \n",
    "    % center difference\n",
    "    g_center(i) = (f(x0+h) - f(x0-h))/(2*h);  \n",
    "end"
   ]
  },
  {
   "cell_type": "markdown",
   "metadata": {},
   "source": [
    "The first element in `g_forward` is quite accurate, but the error grows as the step size $h$ gets larger."
   ]
  },
  {
   "cell_type": "code",
   "execution_count": 5,
   "metadata": {},
   "outputs": [
    {
     "name": "stdout",
     "output_type": "stream",
     "text": [
      "g_forward =\n",
      "  Columns 1 through 7\n",
      "    2.7319    2.7456    2.7595    2.7734    2.7874    2.8015    2.8157\n",
      "  Columns 8 through 10\n",
      "    2.8300    2.8444    2.8588\n"
     ]
    }
   ],
   "source": [
    "g_forward"
   ]
  },
  {
   "cell_type": "markdown",
   "metadata": {},
   "source": [
    "Center difference scheme is much more accurate."
   ]
  },
  {
   "cell_type": "code",
   "execution_count": 6,
   "metadata": {},
   "outputs": [
    {
     "name": "stdout",
     "output_type": "stream",
     "text": [
      "g_center =\n",
      "  Columns 1 through 7\n",
      "    2.7183    2.7185    2.7187    2.7190    2.7194    2.7199    2.7205\n",
      "  Columns 8 through 10\n",
      "    2.7212    2.7220    2.7228\n"
     ]
    }
   ],
   "source": [
    "g_center"
   ]
  },
  {
   "cell_type": "markdown",
   "metadata": {},
   "source": [
    "Compute the absolute error of each scheme"
   ]
  },
  {
   "cell_type": "code",
   "execution_count": 7,
   "metadata": {},
   "outputs": [
    {
     "name": "stdout",
     "output_type": "stream",
     "text": [
      "error_forward =\n",
      "  Columns 1 through 7\n",
      "    0.0136    0.0274    0.0412    0.0551    0.0691    0.0832    0.0974\n",
      "  Columns 8 through 10\n",
      "    0.1117    0.1261    0.1406\n",
      "error_center =\n",
      "  Columns 1 through 7\n",
      "    0.0000    0.0002    0.0004    0.0007    0.0011    0.0016    0.0022\n",
      "  Columns 8 through 10\n",
      "    0.0029    0.0037    0.0045\n"
     ]
    }
   ],
   "source": [
    "error_forward = abs(g_forward - g_true)\n",
    "error_center = abs(g_center - g_true)"
   ]
  },
  {
   "cell_type": "markdown",
   "metadata": {},
   "source": [
    "Make a $h \\leftrightarrow error$ plot."
   ]
  },
  {
   "cell_type": "code",
   "execution_count": 8,
   "metadata": {},
   "outputs": [
    {
     "data": {
      "image/png": "[encoded data removed]",
      "text/plain": [
       "<IPython.core.display.Image object>"
      ]
     },
     "metadata": {},
     "output_type": "display_data"
    }
   ],
   "source": [
    "%plot -s 600,200\n",
    "subplot(121); plot(h_list, error_forward,'-o')\n",
    "title('forward');xlabel('h');ylabel('error')\n",
    "subplot(122); plot(h_list, error_center,'-o')\n",
    "title('center');xlabel('h');ylabel('error')"
   ]
  },
  {
   "cell_type": "markdown",
   "metadata": {},
   "source": [
    "- Forward scheme gives a straight line because it is a first-order method and $error(h) \\approx C \\cdot h$\n",
    "\n",
    "- Center scheme gives a parabola because it is a second-order method and $error(h) \\approx C \\cdot h^2$"
   ]
  },
  {
   "cell_type": "markdown",
   "metadata": {},
   "source": [
    "## Diagnosing the order of convergence"
   ]
  },
  {
   "cell_type": "markdown",
   "metadata": {},
   "source": [
    "But by only looking at the $error(h)$ plot, how can you know the curve is a parabola? Can't it be a cubic $C \\cdot h^3$?\n",
    "\n",
    "Recall that in HW4 you were fitting a function $R = bW^a$. To figure out the coefficients $a$ and $b$, you need to take the log. The same thing here. \n",
    "\n",
    "If $error = C \\cdot h^k$, then\n",
    "\n",
    "$$\n",
    "\\log(error) = \\log C + k \\log h\n",
    "$$\n",
    "\n",
    "The slope of the $log(error) \\leftrightarrow log(h)$ plot is $k$, i.e. the order of the numerical method. "
   ]
  },
  {
   "cell_type": "code",
   "execution_count": 9,
   "metadata": {},
   "outputs": [
    {
     "data": {
      "image/png": "[encoded data removed]",
      "text/plain": [
       "<IPython.core.display.Image object>"
      ]
     },
     "metadata": {},
     "output_type": "display_data"
    }
   ],
   "source": [
    "%plot -s 600,200\n",
    "subplot(121); loglog(h_list, error_forward,'-o')\n",
    "title('forward');xlabel('log(h)');ylabel('log(error)')\n",
    "subplot(122); loglog(h_list, error_center,'-o')\n",
    "title('center');xlabel('log(h)');ylabel('log(error)')"
   ]
  },
  {
   "cell_type": "markdown",
   "metadata": {},
   "source": [
    "To figure out the slope we can do linear regression. You can solve a least square problem as in HW4&5, but here we use a shortcut as described in [this example](https://www.mathworks.com/help/matlab/data_analysis/linear-regression.html#bswj6xx). `polyfit(x, y, 1)` returns the slope and intercept."
   ]
  },
  {
   "cell_type": "code",
   "execution_count": 10,
   "metadata": {},
   "outputs": [
    {
     "name": "stdout",
     "output_type": "stream",
     "text": [
      "ans =\n",
      "    1.0132    0.3662\n"
     ]
    }
   ],
   "source": [
    "polyfit(log(h_list), log(error_forward), 1)\n"
   ]
  },
  {
   "cell_type": "code",
   "execution_count": 11,
   "metadata": {},
   "outputs": [
    {
     "name": "stdout",
     "output_type": "stream",
     "text": [
      "ans =\n",
      "    2.0002   -0.7909\n"
     ]
    }
   ],
   "source": [
    "polyfit(log(h_list), log(error_center), 1)"
   ]
  },
  {
   "cell_type": "markdown",
   "metadata": {},
   "source": [
    "The slopes are 1 and 2, respectively. So we've verified that forward-diff is 1st-order accurate while center-diff is 2nd-order accurate.\n",
    "\n",
    "**If the analytical solution is not known, you can use the most accurate solution (with the smallest h) as the true solution to figure out the slope.** If your numerical scheme is converging to the true solution, then the estimate of order will still be OK. The risk is your numerical scheme might be converging to a wrong solution, and in this case it makes no sense to talk about error convergence."
   ]
  },
  {
   "cell_type": "markdown",
   "metadata": {},
   "source": [
    "## $h$ needs to be small"
   ]
  },
  {
   "cell_type": "markdown",
   "metadata": {},
   "source": [
    "$error(h) \\approx C \\cdot h^k$ only holds for small $h$. When $h$ is sufficiently small, we say that it is in the [asymptotic regime](https://en.wikipedia.org/wiki/Asymptotic_analysis). All the error analysis only holds in the asymptotic regime, and makes little sense when $h$ is very large.\n",
    "\n",
    "Let's make the step size 100 times larger and see what happens."
   ]
  },
  {
   "cell_type": "code",
   "execution_count": 12,
   "metadata": {
    "collapsed": true
   },
   "outputs": [],
   "source": [
    "h_list = 1:1:10; % h is 100x larger than before\n",
    "\n",
    "% -- the codes below are exactly the same as before --\n",
    "\n",
    "n = length(h_list);\n",
    "g_forward = zeros(1,n); % to hold forward difference results\n",
    "g_center = zeros(1,n); % to hold center difference results\n",
    "\n",
    "for i = 1:n % loop over different step sizes\n",
    "    h = h_list(i); % get step size \n",
    "    \n",
    "    % forward difference\n",
    "    g_forward(i) = (f(x0+h) - f(x0))/h;  \n",
    "    \n",
    "    % center difference\n",
    "    g_center(i) = (f(x0+h) - f(x0-h))/(2*h);  \n",
    "end\n",
    "\n",
    "error_forward = abs(g_forward - g_true);\n",
    "error_center = abs(g_center - g_true);"
   ]
  },
  {
   "cell_type": "code",
   "execution_count": 13,
   "metadata": {},
   "outputs": [
    {
     "data": {
      "image/png": "[encoded data removed]",
      "text/plain": [
       "<IPython.core.display.Image object>"
      ]
     },
     "metadata": {},
     "output_type": "display_data"
    }
   ],
   "source": [
    "%plot -s 600,200\n",
    "subplot(121); loglog(h_list, error_forward,'-o')\n",
    "title('forward');xlabel('log(h)');ylabel('log(error)')\n",
    "subplot(122); loglog(h_list, error_center,'-o')\n",
    "title('center');xlabel('log(h)');ylabel('log(error)')"
   ]
  },
  {
   "cell_type": "markdown",
   "metadata": {},
   "source": [
    "Now the error is super large and the log-log plot is not a straight line. So keep in mind that for most numerical schemes we always assume small $h$.\n",
    "\n",
    "So how small is \"small\"? It depends on the scale of your problem and how rapidly $f(x)$ changes. If the problem is defined in $x \\in [0,0.001]$, then $h=0.001$ is not small at all!"
   ]
  },
  {
   "cell_type": "markdown",
   "metadata": {},
   "source": [
    "## Error convergence of numerical intergration"
   ]
  },
  {
   "cell_type": "markdown",
   "metadata": {},
   "source": [
    "Now consider \n",
    "$$\n",
    "I = \\int_0^1 f(x)\n",
    "$$\n",
    "\n",
    "We still use $f(x) = e^x$ for convenience, as the integral of $e^x$ is still $e^x$."
   ]
  },
  {
   "cell_type": "code",
   "execution_count": 14,
   "metadata": {
    "collapsed": true
   },
   "outputs": [],
   "source": [
    "f = @(x) exp(x); % the function we want to integrate"
   ]
  },
  {
   "cell_type": "code",
   "execution_count": 15,
   "metadata": {},
   "outputs": [
    {
     "name": "stdout",
     "output_type": "stream",
     "text": [
      "I_true =\n",
      "    1.7183\n"
     ]
    }
   ],
   "source": [
    "I_true = exp(1)-exp(0)"
   ]
  },
  {
   "cell_type": "markdown",
   "metadata": {},
   "source": [
    "We use composite midpoint scheme to approximate $I$. We test different interval size $h$. Note that we need to first define the number of intervals $m$, and then get the corresponding $h$, because $m$ has to be an integer."
   ]
  },
  {
   "cell_type": "code",
   "execution_count": 16,
   "metadata": {
    "collapsed": true
   },
   "outputs": [],
   "source": [
    "m_list = 10:10:100; % number of points\n",
    "h_list = 1./m_list; % interval size\n",
    "\n",
    "n = length(m_list);\n",
    "I_list = zeros(1,n); % to hold intergration results\n",
    "\n",
    "for i=1:n % loop over different interval sizes (or number of intevals)\n",
    "    m = m_list(i);\n",
    "    h = h_list(i);\n",
    "    \n",
    "    % get edge points\n",
    "    x_edge = linspace(0, 1, m+1); \n",
    "    \n",
    "    % edge to middle\n",
    "    x_mid = (x_edge(1:end-1) + x_edge(2:end))/2;\n",
    "    \n",
    "    % composite midpoint intergration scheme\n",
    "    I_list(i) = h*sum(f(x_mid));\n",
    "end"
   ]
  },
  {
   "cell_type": "markdown",
   "metadata": {},
   "source": [
    "The result is quite accurate."
   ]
  },
  {
   "cell_type": "code",
   "execution_count": 17,
   "metadata": {},
   "outputs": [
    {
     "name": "stdout",
     "output_type": "stream",
     "text": [
      "I_list =\n",
      "  Columns 1 through 7\n",
      "    1.7176    1.7181    1.7182    1.7182    1.7183    1.7183    1.7183\n",
      "  Columns 8 through 10\n",
      "    1.7183    1.7183    1.7183\n"
     ]
    }
   ],
   "source": [
    "I_list"
   ]
  },
  {
   "cell_type": "markdown",
   "metadata": {},
   "source": [
    "The error is at the order of $10^{-3}$."
   ]
  },
  {
   "cell_type": "code",
   "execution_count": 18,
   "metadata": {},
   "outputs": [
    {
     "name": "stdout",
     "output_type": "stream",
     "text": [
      "error_I =\n",
      "   1.0e-03 *\n",
      "  Columns 1 through 7\n",
      "    0.7157    0.1790    0.0795    0.0447    0.0286    0.0199    0.0146\n",
      "  Columns 8 through 10\n",
      "    0.0112    0.0088    0.0072\n"
     ]
    }
   ],
   "source": [
    "error_I = abs(I_list-I_true)"
   ]
  },
  {
   "cell_type": "markdown",
   "metadata": {},
   "source": [
    "Again, a log-log plot will provide more insights about the order of convergence."
   ]
  },
  {
   "cell_type": "code",
   "execution_count": 19,
   "metadata": {},
   "outputs": [
    {
     "data": {
      "image/png": "[encoded data removed]",
      "text/plain": [
       "<IPython.core.display.Image object>"
      ]
     },
     "metadata": {},
     "output_type": "display_data"
    }
   ],
   "source": [
    "%plot -s 600,200\n",
    "subplot(121);plot(h_list, error_I, '-o')\n",
    "title('error -- h');xlabel('h');ylabel('error')\n",
    "subplot(122);loglog(h_list, error_I, '-o')\n",
    "title('log(error) -- log(h)');xlabel('log(h)');ylabel('log(error)')"
   ]
  },
  {
   "cell_type": "markdown",
   "metadata": {},
   "source": [
    "The slope is 2, so the method is second order accurate. "
   ]
  },
  {
   "cell_type": "code",
   "execution_count": 20,
   "metadata": {},
   "outputs": [
    {
     "name": "stdout",
     "output_type": "stream",
     "text": [
      "ans =\n",
      "    1.9999   -2.6372\n"
     ]
    }
   ],
   "source": [
    "polyfit(log(h_list), log(error_I), 1)"
   ]
  },
  {
   "cell_type": "markdown",
   "metadata": {},
   "source": [
    "**We've just applied the same error analysis method on both differentiation and integration. The same method also applies to ODE solving.**"
   ]
  },
  {
   "cell_type": "markdown",
   "metadata": {},
   "source": [
    "## Error convergence of ODE solving"
   ]
  },
  {
   "cell_type": "markdown",
   "metadata": {},
   "source": [
    "Consider a simple ODE\n",
    "\n",
    "$$\n",
    "\\frac{dy(t)}{dt} = y(t),\\ \\ y(0)=1\n",
    "$$\n",
    "\n",
    "The exact solution is $y(t) = e^t$. We use the forward Euler scheme to solve it.\n",
    "\n",
    "$$\n",
    "\\frac{y(t+h) - y(t)}{h} \\approx y(t)\n",
    "$$\n",
    "\n",
    "The iteration is given by\n",
    "$$\n",
    "y(t+h) = y(t) + h \\cdot y(t) = (1+h)y(t) \n",
    "$$"
   ]
  },
  {
   "cell_type": "markdown",
   "metadata": {},
   "source": [
    "Let's only consider $t \\in [0,1]$. More specifically, we'll only look at the final state $y(1)$, so we don't need to record every step."
   ]
  },
  {
   "cell_type": "code",
   "execution_count": 21,
   "metadata": {},
   "outputs": [
    {
     "name": "stdout",
     "output_type": "stream",
     "text": [
      "y1_true =\n",
      "    2.7183\n"
     ]
    }
   ],
   "source": [
    "y1_true = exp(1) % true y(1)"
   ]
  },
  {
   "cell_type": "markdown",
   "metadata": {},
   "source": [
    "Same as in the integration section, we need to first define the number of total iterations $m$, and then get the corresponding step size $h$. This ensures we will land exactly at $t=1$, not its neighbours."
   ]
  },
  {
   "cell_type": "code",
   "execution_count": 22,
   "metadata": {
    "collapsed": true
   },
   "outputs": [],
   "source": [
    "y0 = 1; % initial condition\n",
    "\n",
    "m_list = 10:10:100; % number of iterations to get to t=1\n",
    "h_list = 1./m_list; % step size\n",
    "\n",
    "n = length(m_list);\n",
    "y1_list = zeros(1,n); % to hold the final point \n",
    "\n",
    "for i=1:n % loop over different step sizes\n",
    "    m = m_list(i); % get the number of iterations\n",
    "    h = h_list(i); % get step size\n",
    "    \n",
    "    y1 = y0; % start with y(0)\n",
    "    \n",
    "    % Euler scheme begins here\n",
    "    for t=1:m\n",
    "        y1 = (1+h)*y1; % no need to record intermediate results here\n",
    "    end\n",
    "    \n",
    "    y1_list(i) = y1; % only record the final point\n",
    "    \n",
    "end"
   ]
  },
  {
   "cell_type": "markdown",
   "metadata": {},
   "source": [
    "As $h$ shrinks, our simulated $y(1)$ gets closer to the true result."
   ]
  },
  {
   "cell_type": "code",
   "execution_count": 23,
   "metadata": {},
   "outputs": [
    {
     "name": "stdout",
     "output_type": "stream",
     "text": [
      "y1_list =\n",
      "  Columns 1 through 7\n",
      "    2.5937    2.6533    2.6743    2.6851    2.6916    2.6960    2.6991\n",
      "  Columns 8 through 10\n",
      "    2.7015    2.7033    2.7048\n"
     ]
    }
   ],
   "source": [
    "y1_list"
   ]
  },
  {
   "cell_type": "code",
   "execution_count": 24,
   "metadata": {},
   "outputs": [
    {
     "name": "stdout",
     "output_type": "stream",
     "text": [
      "error_y1 =\n",
      "  Columns 1 through 7\n",
      "    0.1245    0.0650    0.0440    0.0332    0.0267    0.0223    0.0192\n",
      "  Columns 8 through 10\n",
      "    0.0168    0.0149    0.0135\n"
     ]
    }
   ],
   "source": [
    "error_y1 = abs(y1_list-y1_true)"
   ]
  },
  {
   "cell_type": "markdown",
   "metadata": {},
   "source": [
    "$error \\leftrightarrow h$ plot is a straight line, so we know the method is fist order accurate. The log-log plot is not quite necessary here."
   ]
  },
  {
   "cell_type": "code",
   "execution_count": 25,
   "metadata": {},
   "outputs": [
    {
     "data": {
      "image/png": "[encoded data removed]",
      "text/plain": [
       "<IPython.core.display.Image object>"
      ]
     },
     "metadata": {},
     "output_type": "display_data"
    }
   ],
   "source": [
    "%plot -s 600,200\n",
    "subplot(121);plot(h_list, error_y1, '-o')\n",
    "title('error -- h');xlabel('h');ylabel('error')\n",
    "subplot(122);loglog(h_list, error_y1, '-o')\n",
    "title('log(error) -- log(h)');xlabel('log(h)');ylabel('log(error)')"
   ]
  },
  {
   "cell_type": "markdown",
   "metadata": {},
   "source": [
    "Of course we can still calculate the slope of the log-log plot, to double check the forward Euler scheme is a first-order method."
   ]
  },
  {
   "cell_type": "code",
   "execution_count": 26,
   "metadata": {},
   "outputs": [
    {
     "name": "stdout",
     "output_type": "stream",
     "text": [
      "ans =\n",
      "    0.9687    0.1613\n"
     ]
    }
   ],
   "source": [
    "polyfit(log(h_list), log(error_y1), 1)"
   ]
  },
  {
   "cell_type": "markdown",
   "metadata": {},
   "source": [
    "**The take-away is, you can think about the order of a method in a more general sense. We've covered numerical differentiation, intergration and ODE here, and similar analysis also applies to root-finding, PDE, optimization, etc...**"
   ]
  }
 ],
 "metadata": {
  "kernelspec": {
   "display_name": "Matlab",
   "language": "matlab",
   "name": "matlab"
  },
  "language_info": {
   "codemirror_mode": "octave",
   "file_extension": ".m",
   "help_links": [
    {
     "text": "MetaKernel Magics",
     "url": "https://github.com/calysto/metakernel/blob/master/metakernel/magics/README.md"
    }
   ],
   "mimetype": "text/x-matlab",
   "name": "matlab",
   "version": "0.14.3"
  },
  "toc": {
   "nav_menu": {},
   "number_sections": true,
   "sideBar": true,
   "skip_h1_title": false,
   "toc_cell": false,
   "toc_position": {
    "height": "381px",
    "left": "0px",
    "right": "auto",
    "top": "105px",
    "width": "212px"
   },
   "toc_section_display": "block",
   "toc_window_display": true
  }
 },
 "nbformat": 4,
 "nbformat_minor": 2
}
