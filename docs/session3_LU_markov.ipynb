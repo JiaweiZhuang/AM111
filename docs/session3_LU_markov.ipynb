{
 "cells": [
  {
   "cell_type": "markdown",
   "metadata": {},
   "source": [
    "# Session 3: LU Factorization & Markov Process\n",
    "\n",
    "Date: 09/25/2017, Monday"
   ]
  },
  {
   "cell_type": "code",
   "execution_count": 1,
   "metadata": {
    "collapsed": true
   },
   "outputs": [],
   "source": [
    "format compact"
   ]
  },
  {
   "cell_type": "markdown",
   "metadata": {},
   "source": [
    "**Read Canvas - Files - lectures- linear_algebra.pdf first before looking at this material.** "
   ]
  },
  {
   "cell_type": "markdown",
   "metadata": {
    "collapsed": true
   },
   "source": [
    "## LU=PA Factorization"
   ]
  },
  {
   "cell_type": "markdown",
   "metadata": {},
   "source": [
    "Gaussian elimination consists of **forward elimination** and **backward substitution**. \n",
    "\n",
    "The backward substition part is easy -- You already have an **upper diagnonal matrix** $U$, and just need to solve $Ux=b$. \n",
    "\n",
    "The forward elimination part is more interesting. By doing forward elimination by hand, you transformed the  original matrix $A$ to an upper diagnonal matrix $U$. In fact, during this forward elimination process, you not only produced matrix $U$, but also constructed two other matrices $L$ and $P$ (even if you didn't even notice it!). They satisfy\n",
    "$$\n",
    "LU=PA\n",
    "$$\n",
    "\n",
    "- L is a **lower triangular matrix L** with all diagonal elements being 1. It contains all the multipliers used during the forward elimination. \n",
    "- $P$ is a **permutation matrix** containing only 0 and 1. It accounts for all row-swapings during the forward elimination."
   ]
  },
  {
   "cell_type": "markdown",
   "metadata": {},
   "source": [
    "### Row operation as matrix multiplication"
   ]
  },
  {
   "cell_type": "markdown",
   "metadata": {},
   "source": [
    "#### Basic idea"
   ]
  },
  {
   "cell_type": "markdown",
   "metadata": {},
   "source": [
    "To understand how $LU=PA$ works, you should always keep in mind that\n",
    "\n",
    "    row operation = left multiply\n",
    "\n",
    "Or more verbosely\n",
    "\n",
    "    A row operation on matrix A = left-multiply a matrix L to A (i.e. calculate LA)\n",
    "\n",
    "This is a crucial concept in linear algebra."
   ]
  },
  {
   "cell_type": "markdown",
   "metadata": {},
   "source": [
    "Let's see an example:"
   ]
  },
  {
   "cell_type": "code",
   "execution_count": 2,
   "metadata": {},
   "outputs": [
    {
     "name": "stdout",
     "output_type": "stream",
     "text": [
      "A =\n",
      "    10    -7     0\n",
      "    -3     2     6\n",
      "     5    -1     5\n"
     ]
    }
   ],
   "source": [
    "A = [10 -7 0; -3 2 6 ;5 -1 5]"
   ]
  },
  {
   "cell_type": "markdown",
   "metadata": {},
   "source": [
    "Perform the first step of gaussian elimination, i.e. add 0.3*row1 to row2."
   ]
  },
  {
   "cell_type": "code",
   "execution_count": 3,
   "metadata": {},
   "outputs": [
    {
     "name": "stdout",
     "output_type": "stream",
     "text": [
      "A1 =\n",
      "   10.0000   -7.0000         0\n",
      "         0   -0.1000    6.0000\n",
      "    5.0000   -1.0000    5.0000\n"
     ]
    }
   ],
   "source": [
    "A1 = A; % make a copy \n",
    "A1(2,:) = A(2,:)+0.3*A(1,:) "
   ]
  },
  {
   "cell_type": "markdown",
   "metadata": {},
   "source": [
    "There's another way to perform the above row-operation: left-multiply A by an elementary matrix."
   ]
  },
  {
   "cell_type": "code",
   "execution_count": 4,
   "metadata": {},
   "outputs": [
    {
     "name": "stdout",
     "output_type": "stream",
     "text": [
      "L1 =\n",
      "    1.0000         0         0\n",
      "    0.3000    1.0000         0\n",
      "         0         0    1.0000\n"
     ]
    }
   ],
   "source": [
    "L1 = [1,0,0; 0.3,1,0; 0,0,1] % make our elementary matrix"
   ]
  },
  {
   "cell_type": "code",
   "execution_count": 5,
   "metadata": {},
   "outputs": [
    {
     "name": "stdout",
     "output_type": "stream",
     "text": [
      "ans =\n",
      "   10.0000   -7.0000         0\n",
      "         0   -0.1000    6.0000\n",
      "    5.0000   -1.0000    5.0000\n"
     ]
    }
   ],
   "source": [
    "L1*A"
   ]
  },
  {
   "cell_type": "markdown",
   "metadata": {},
   "source": [
    "L1*A gives the same result as the previous row-operation!\n",
    "\n",
    "Let's repeat this idea again:\n",
    "    \n",
    "    row operation = left multiply"
   ]
  },
  {
   "cell_type": "markdown",
   "metadata": {},
   "source": [
    "#### Find elementary matrix"
   ]
  },
  {
   "cell_type": "markdown",
   "metadata": {},
   "source": [
    "How to find out the matrix L1? Just perform the row-operation to an identity matrix"
   ]
  },
  {
   "cell_type": "code",
   "execution_count": 6,
   "metadata": {},
   "outputs": [
    {
     "name": "stdout",
     "output_type": "stream",
     "text": [
      "L1 =\n",
      "    1.0000         0         0\n",
      "    0.3000    1.0000         0\n",
      "         0         0    1.0000\n"
     ]
    }
   ],
   "source": [
    "L1 = eye(3); % 3x3 identity matrix\n",
    "L1(2,:) = L1(2,:)+0.3*L1(1,:) % the row-operation you want to \"encode\" into this matrix"
   ]
  },
  {
   "cell_type": "markdown",
   "metadata": {},
   "source": [
    "Then you can perform L1*A to apply this row-operation on any matrix A."
   ]
  },
  {
   "cell_type": "markdown",
   "metadata": {},
   "source": [
    "Same for the permutation operation, as it is also an elementary row operation."
   ]
  },
  {
   "cell_type": "code",
   "execution_count": 7,
   "metadata": {},
   "outputs": [
    {
     "name": "stdout",
     "output_type": "stream",
     "text": [
      "Ap =\n",
      "    -3     2     6\n",
      "    10    -7     0\n",
      "     5    -1     5\n"
     ]
    }
   ],
   "source": [
    "Ap = A; % make a copy \n",
    "% swap raw 1 and 2\n",
    "Ap(2,:) = A(1,:);\n",
    "Ap(1,:) = A(2,:);\n",
    "Ap"
   ]
  },
  {
   "cell_type": "markdown",
   "metadata": {},
   "source": [
    "You can \"encode\" this row-swapping operation into an elementary permutation matrix."
   ]
  },
  {
   "cell_type": "code",
   "execution_count": 8,
   "metadata": {},
   "outputs": [
    {
     "name": "stdout",
     "output_type": "stream",
     "text": [
      "P1 =\n",
      "     0     1     0\n",
      "     1     0     0\n",
      "     0     0     1\n"
     ]
    }
   ],
   "source": [
    "I = eye(3); % 3x3 identity matrix\n",
    "P1 = I;\n",
    "\n",
    "% swap raw 1 and 2\n",
    "P1(2,:) = I(1,:);\n",
    "P1(1,:) = I(2,:);\n",
    "P1"
   ]
  },
  {
   "cell_type": "markdown",
   "metadata": {},
   "source": [
    "Multiplying A by P1 is equivalent to permuting A directly:"
   ]
  },
  {
   "cell_type": "code",
   "execution_count": 9,
   "metadata": {},
   "outputs": [
    {
     "name": "stdout",
     "output_type": "stream",
     "text": [
      "ans =\n",
      "    -3     2     6\n",
      "    10    -7     0\n",
      "     5    -1     5\n"
     ]
    }
   ],
   "source": [
    "P1*A % same as Ap"
   ]
  },
  {
   "cell_type": "markdown",
   "metadata": {},
   "source": [
    "### Get L during forward elimination"
   ]
  },
  {
   "cell_type": "markdown",
   "metadata": {},
   "source": [
    "For simplicity, assume you don't need permutation steps. Then you just transform an arbrary 3x3 matrix A (non-singular, of course) to an upper-diagnoal matrix U by 3 row operations. Such operations are equivalent to multiplying A by 3 matrices $L_1,L_2,L_3$\n",
    "\n",
    "$$\n",
    "A \\rightarrow L_1 A  \\rightarrow L_2 L_1 A \\rightarrow L_3 L_2 L_1 A = U\n",
    "$$\n",
    "\n",
    "We can rewrite it as\n",
    "$$\n",
    "A = (L_3 L_2 L_1)^{-1}U\n",
    "$$\n",
    "\n",
    "Or\n",
    "\n",
    "$$\n",
    "A = LU , \\ \\ L= (L_3 L_2 L_1)^{-1}\n",
    "$$\n",
    "\n",
    "It is easy to get $L$ as long as you know $L_1,L_2,L_3$ from the operations you've performed. "
   ]
  },
  {
   "cell_type": "code",
   "execution_count": 10,
   "metadata": {},
   "outputs": [
    {
     "name": "stdout",
     "output_type": "stream",
     "text": [
      "A =\n",
      "    10    -7     0\n",
      "    -3     2     6\n",
      "     5    -1     5\n"
     ]
    }
   ],
   "source": [
    "A % show A's value again"
   ]
  },
  {
   "cell_type": "code",
   "execution_count": 11,
   "metadata": {},
   "outputs": [
    {
     "name": "stdout",
     "output_type": "stream",
     "text": [
      "L1 =\n",
      "    1.0000         0         0\n",
      "    0.3000    1.0000         0\n",
      "         0         0    1.0000\n"
     ]
    }
   ],
   "source": [
    "L1 = [1,0,0; 0.3,1,0; 0,0,1] % repeat L1 again"
   ]
  },
  {
   "cell_type": "code",
   "execution_count": 12,
   "metadata": {},
   "outputs": [
    {
     "name": "stdout",
     "output_type": "stream",
     "text": [
      "ans =\n",
      "   10.0000   -7.0000         0\n",
      "         0   -0.1000    6.0000\n",
      "    5.0000   -1.0000    5.0000\n"
     ]
    }
   ],
   "source": [
    "L1*A % row operation by left-multiply"
   ]
  },
  {
   "cell_type": "code",
   "execution_count": 13,
   "metadata": {},
   "outputs": [
    {
     "name": "stdout",
     "output_type": "stream",
     "text": [
      "L2 =\n",
      "    1.0000         0         0\n",
      "         0    1.0000         0\n",
      "   -0.5000         0    1.0000\n"
     ]
    }
   ],
   "source": [
    "L2 = [1,0,0; 0,1,0; -0.5,0,1] % build the next elimination step"
   ]
  },
  {
   "cell_type": "code",
   "execution_count": 14,
   "metadata": {},
   "outputs": [
    {
     "name": "stdout",
     "output_type": "stream",
     "text": [
      "ans =\n",
      "   10.0000   -7.0000         0\n",
      "         0   -0.1000    6.0000\n",
      "         0    2.5000    5.0000\n"
     ]
    }
   ],
   "source": [
    "L2*L1*A % apply the next elimination step"
   ]
  },
  {
   "cell_type": "code",
   "execution_count": 15,
   "metadata": {},
   "outputs": [
    {
     "name": "stdout",
     "output_type": "stream",
     "text": [
      "L3 =\n",
      "     1     0     0\n",
      "     0     1     0\n",
      "     0    25     1\n"
     ]
    }
   ],
   "source": [
    "L3 = [1,0,0; 0,1,0; 0,25,1] % build the last elimination step"
   ]
  },
  {
   "cell_type": "code",
   "execution_count": 16,
   "metadata": {},
   "outputs": [
    {
     "name": "stdout",
     "output_type": "stream",
     "text": [
      "U =\n",
      "   10.0000   -7.0000         0\n",
      "         0   -0.1000    6.0000\n",
      "         0         0  155.0000\n"
     ]
    }
   ],
   "source": [
    "U = L3*L2*L1*A % apply the last elimination step"
   ]
  },
  {
   "cell_type": "markdown",
   "metadata": {},
   "source": [
    "Now you've transformed $A$ to an upper-diagonal matrix $U$. And you also have $L$:"
   ]
  },
  {
   "cell_type": "code",
   "execution_count": 17,
   "metadata": {},
   "outputs": [
    {
     "name": "stdout",
     "output_type": "stream",
     "text": [
      "L3L2L1 =\n",
      "    1.0000         0         0\n",
      "    0.3000    1.0000         0\n",
      "    7.0000   25.0000    1.0000\n"
     ]
    }
   ],
   "source": [
    "L3L2L1 = L3*L2*L1"
   ]
  },
  {
   "cell_type": "code",
   "execution_count": 18,
   "metadata": {},
   "outputs": [
    {
     "name": "stdout",
     "output_type": "stream",
     "text": [
      "L =\n",
      "    1.0000         0         0\n",
      "   -0.3000    1.0000         0\n",
      "    0.5000  -25.0000    1.0000\n"
     ]
    }
   ],
   "source": [
    "L = inv(L3L2L1)"
   ]
  },
  {
   "cell_type": "markdown",
   "metadata": {},
   "source": [
    "Calculating $L_3 L_2 L_1$ is just putting the coefficients in $L_1,L_2,L_3$ together. Calculating the inversion is just negating the coefficients (except diagonal elements).\n",
    "\n",
    "Why? Again, because\n",
    "\n",
    "    row operation = left multiply\n",
    "    \n",
    "Here we are just encoding multiple row operations into a single matrix $L$ or $L^{-1}$. You get this matrix by applying all those operations to an identity matrix."
   ]
  },
  {
   "cell_type": "markdown",
   "metadata": {},
   "source": [
    "Last, let's verify $A=LU$"
   ]
  },
  {
   "cell_type": "code",
   "execution_count": 19,
   "metadata": {},
   "outputs": [
    {
     "name": "stdout",
     "output_type": "stream",
     "text": [
      "ans =\n",
      "   10.0000   -7.0000         0\n",
      "   -3.0000    2.0000    6.0000\n",
      "    5.0000   -1.0000    5.0000\n"
     ]
    }
   ],
   "source": [
    "L*U"
   ]
  },
  {
   "cell_type": "markdown",
   "metadata": {},
   "source": [
    "We can say that $L$ represents all forward elimination steps (assume no permutaion). By knowing $L$, you can easily get $U$ by $U=L^{-1}A$"
   ]
  },
  {
   "cell_type": "markdown",
   "metadata": {},
   "source": [
    "### Get P during forward elimination"
   ]
  },
  {
   "cell_type": "markdown",
   "metadata": {},
   "source": [
    "Say you have a permutation step P somewhere, for example\n",
    "\n",
    "$$\n",
    "L_3 P L_2 L_1 A = U\n",
    "$$\n",
    "\n",
    "Because elementary permutation matrix is commutative with any matrices, we have\n",
    "\n",
    "$$\n",
    "L_3 L_2 L_1 (PA) = U\n",
    "$$\n",
    "\n",
    "Thus \n",
    "$$\n",
    "LU=PA\n",
    "$$"
   ]
  },
  {
   "cell_type": "markdown",
   "metadata": {},
   "source": [
    "## Markov process"
   ]
  },
  {
   "cell_type": "markdown",
   "metadata": {},
   "source": [
    "There are two towns, both have 100 people (so 200 in total). Everyday, 50% of people in town 1 will move to town 2, while 30% of people in town 2 will move to town 1. Eventually, how many people will each town have?\n",
    "\n",
    "The initial condition is\n",
    "\n",
    "$$\n",
    "\\begin{bmatrix}\n",
    "    x_1 \\\\\n",
    "    x_2\n",
    "\\end{bmatrix}\n",
    "=\n",
    "\\begin{bmatrix}\n",
    "    100 \\\\\n",
    "    100\n",
    "\\end{bmatrix}\n",
    "$$\n",
    "\n",
    "Each day\n",
    "$$\n",
    "\\begin{bmatrix}\n",
    "    x_1 \\\\\n",
    "    x_2\n",
    "\\end{bmatrix}\n",
    "\\rightarrow\n",
    "\\begin{bmatrix}\n",
    "    x_1 - 0.5x_1 + 0.3x_2 \\\\\n",
    "    x_2 + 0.5x_1 - 0.3x_2\n",
    "\\end{bmatrix}\n",
    "=\n",
    "\\begin{bmatrix}\n",
    "    0.5x_1 + 0.3x_2 \\\\\n",
    "    0.5x_1 + 0.7x_2\n",
    "\\end{bmatrix}\n",
    "=\n",
    "\\begin{bmatrix}\n",
    "    0.5 & 0.3 \\\\\n",
    "    0.5 & 0.7 \n",
    "\\end{bmatrix}\n",
    "\\begin{bmatrix}\n",
    "    x_1 \\\\\n",
    "    x_2\n",
    "\\end{bmatrix}\n",
    "$$\n",
    "\n",
    "This is a **Markov process**. We can get its **Markov matrix** (or **transition matrix**)\n",
    "$$\n",
    "A = \\begin{bmatrix}\n",
    "    0.5 & 0.3 \\\\\n",
    "    0.5 & 0.7 \n",
    "\\end{bmatrix}\n",
    "$$\n",
    "\n",
    "Each column of A has a sum of 1 because it means probability."
   ]
  },
  {
   "cell_type": "code",
   "execution_count": 20,
   "metadata": {},
   "outputs": [
    {
     "name": "stdout",
     "output_type": "stream",
     "text": [
      "x =\n",
      "   100\n",
      "   100\n",
      "A =\n",
      "    0.5000    0.3000\n",
      "    0.5000    0.7000\n"
     ]
    }
   ],
   "source": [
    "x = [100; 100] % initial condition\n",
    "A = [0.5 0.3;0.5 0.7] % Markov matrix"
   ]
  },
  {
   "cell_type": "markdown",
   "metadata": {},
   "source": [
    "At the second day, the number of people will be:"
   ]
  },
  {
   "cell_type": "code",
   "execution_count": 21,
   "metadata": {},
   "outputs": [
    {
     "name": "stdout",
     "output_type": "stream",
     "text": [
      "ans =\n",
      "    80\n",
      "   120\n"
     ]
    }
   ],
   "source": [
    "A*x"
   ]
  },
  {
   "cell_type": "markdown",
   "metadata": {},
   "source": [
    "Town2 gets more people. This is expected because town1->town2 has a higher probability than town2->town1."
   ]
  },
  {
   "cell_type": "markdown",
   "metadata": {},
   "source": [
    "How about after 10 days?"
   ]
  },
  {
   "cell_type": "code",
   "execution_count": 22,
   "metadata": {},
   "outputs": [
    {
     "name": "stdout",
     "output_type": "stream",
     "text": [
      "x10 =\n",
      "   75.0000\n",
      "  125.0000\n"
     ]
    }
   ],
   "source": [
    "x10 = A^10*x"
   ]
  },
  {
   "cell_type": "markdown",
   "metadata": {},
   "source": [
    "11 days?"
   ]
  },
  {
   "cell_type": "code",
   "execution_count": 23,
   "metadata": {},
   "outputs": [
    {
     "name": "stdout",
     "output_type": "stream",
     "text": [
      "x11 =\n",
      "   75.0000\n",
      "  125.0000\n"
     ]
    }
   ],
   "source": [
    "x11 = A*x10"
   ]
  },
  {
   "cell_type": "markdown",
   "metadata": {},
   "source": [
    "There's no difference between day 10 and day 11, which means the population reaches equilibrium. This is called the **power method** for finding the **state vector** for this **transition matrix**.\n",
    "\n",
    "This power method is intuitive but not very efficient. For a fancier method for Pset3, see Canvas - Files - scripts_and_code - lin_algebra - pagerank_demo_template.m."
   ]
  }
 ],
 "metadata": {
  "kernelspec": {
   "display_name": "Matlab",
   "language": "matlab",
   "name": "matlab"
  },
  "language_info": {
   "codemirror_mode": "octave",
   "file_extension": ".m",
   "help_links": [
    {
     "text": "MetaKernel Magics",
     "url": "https://github.com/calysto/metakernel/blob/master/metakernel/magics/README.md"
    }
   ],
   "mimetype": "text/x-matlab",
   "name": "matlab",
   "version": "0.14.3"
  },
  "toc": {
   "nav_menu": {},
   "number_sections": true,
   "sideBar": true,
   "skip_h1_title": false,
   "toc_cell": false,
   "toc_position": {},
   "toc_section_display": "block",
   "toc_window_display": true
  }
 },
 "nbformat": 4,
 "nbformat_minor": 2
}
