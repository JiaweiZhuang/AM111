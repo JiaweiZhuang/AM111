{
 "cells": [
  {
   "cell_type": "markdown",
   "metadata": {},
   "source": [
    "# Session 8: ODE stability; stiff system\n",
    "\n",
    "Date: 11/06/2017, Monday"
   ]
  },
  {
   "cell_type": "code",
   "execution_count": 1,
   "metadata": {
    "collapsed": true
   },
   "outputs": [],
   "source": [
    "format compact"
   ]
  },
  {
   "cell_type": "markdown",
   "metadata": {},
   "source": [
    "## ODE Stability"
   ]
  },
  {
   "cell_type": "markdown",
   "metadata": {},
   "source": [
    "### Problem statement"
   ]
  },
  {
   "cell_type": "markdown",
   "metadata": {},
   "source": [
    "Consider a simple ODE\n",
    "\n",
    "$$\n",
    "\\frac{dy}{dt} = -a y, \\ \\ y(0)=y_0\n",
    "$$\n",
    "\n",
    "where $a$ is a **positive** real number.\n",
    "\n",
    "It can be solved analytically:\n",
    "$$\n",
    "y(t) = y_0e^{-at}\n",
    "$$\n",
    "\n",
    "So the analytical solution decays exponentially. A numerical solution is allowed to have some error, but it should also be decaying. If the solution is instead growing, we say it is **unstable**."
   ]
  },
  {
   "cell_type": "markdown",
   "metadata": {},
   "source": [
    "### Explicit scheme"
   ]
  },
  {
   "cell_type": "markdown",
   "metadata": {},
   "source": [
    "Forward Eulerian scheme for this problem is\n",
    "\n",
    "$$\n",
    "\\frac{y_{k+1} - y_k}{h} = -ay_k\n",
    "$$\n",
    "\n",
    "The iteration is given by\n",
    "\n",
    "$$\n",
    "y_{k+1}= (1-ha)y_k\n",
    "$$\n",
    "\n",
    "The solution at the k-th time step can be written out explicitly\n",
    "$$\n",
    "y_k= (1-ha)^ky_0\n",
    "$$"
   ]
  },
  {
   "cell_type": "markdown",
   "metadata": {},
   "source": [
    "We all know that when $h$ gets smaller the numerical solution will converge to the true result. But here we are interested in relatively large $h$, i.e. we wonder **what's the largest possible** $h$ **we can use while still getting an OK result**."
   ]
  },
  {
   "cell_type": "markdown",
   "metadata": {},
   "source": [
    "Here are the solutions with different $h$."
   ]
  },
  {
   "cell_type": "code",
   "execution_count": 2,
   "metadata": {},
   "outputs": [
    {
     "data": {
      "image/png": "[encoded data removed]",
      "text/plain": [
       "<IPython.core.display.Image object>"
      ]
     },
     "metadata": {},
     "output_type": "display_data"
    }
   ],
   "source": [
    "%plot -s 400,300\n",
    "\n",
    "% set parameters, can use different value\n",
    "a = 1; \n",
    "y0 = 1;\n",
    "tspan = 10; \n",
    "\n",
    "% build function\n",
    "f_true = @(t) y0*exp(-a*t); % true answer\n",
    "f_forward = @(k,h) (1-h*a).^k * y0; % forward Euler solution\n",
    "\n",
    "% plot true result\n",
    "t_ar = linspace(0, tspan); % for plotting\n",
    "y_true = f_true(t_ar);\n",
    "plot(t_ar, y_true)\n",
    "hold on\n",
    "\n",
    "% plot Forward Euler solution\n",
    "for h=[2.5, 1.5, 0.5] % try different step size\n",
    "    kmax = round(tspan/h);\n",
    "    k_ar = 0:kmax;\n",
    "    t_ar = k_ar*h;\n",
    "    \n",
    "    % we are not doing Forward Euler iteration here\n",
    "    % since the expression is known, we can directly\n",
    "    % get the entire time series\n",
    "    y_forward = f_forward(k_ar, h);\n",
    "    \n",
    "    plot(t_ar, y_forward, '-o')\n",
    "end\n",
    "\n",
    "% tweak details\n",
    "ylim([-1,1]);\n",
    "xlabel('t');ylabel('y');\n",
    "legend('true solution', 'h=2.5', 'h=1.5', 'h=0.5' , 'Location', 'Best')"
   ]
  },
  {
   "cell_type": "markdown",
   "metadata": {},
   "source": [
    "There all 3 typical regimes, determined by the magnitude of $[1-ha]$ inside the expression $y_k= (1-ha)^ky_0$.\n",
    "\n",
    "1) **Small** $h$:  $0 \\le [1-ha] < 1$\n",
    "\n",
    "In this case, $(1-ha)^k$ will decay with $k$ and always be positve.\n",
    "\n",
    "We can solve for the range of $h$:\n",
    "$$\n",
    "h \\le 1/a\n",
    "$$\n",
    "\n",
    "This corresponds to h=0.5 in the above figure. \n",
    "\n",
    "2) **Medium** $h$:  $-1 \\le [1-ha] < 0$\n",
    "\n",
    "In this case, the absolute value of $(1-ha)^k$ will decay with $k$, but it oscillates between negative and postive. This is not desirable, but not that bad, as our solution doesn't blow up.\n",
    "\n",
    "We can solve for the range of $h$:\n",
    "$$\n",
    "1/a < h \\le 2/a\n",
    "$$\n",
    "\n",
    "This corresponds to h=1.5 in the above figure. \n",
    "\n",
    "3) **Large** $h$:  $[1-ha] < -1$\n",
    "\n",
    "In this case, the absolute value of $(1-ha)^k$ will **increase** with $k$. That's the worst case because the true solution will be **decaying**, but our numerical solution insteads gives **exponential growth**. Here our numerical scheme is totally wrong, not just inaccurate.\n",
    "\n",
    "We can solve for the range of $h$:\n",
    "$$\n",
    "h > 2/a\n",
    "$$\n",
    "\n",
    "This corresponds to h=2.5 in the above figure. "
   ]
  },
  {
   "cell_type": "markdown",
   "metadata": {},
   "source": [
    "The take-away is, **to obtain a stable solution, the time step size** $h$ **needs to be small enough. The time step requirement depends on** $a$, **i.e. how fast the system is changing.** If $a$ is large, the system is changing rapidly, and $h$ has to be small enough to capture this fast change."
   ]
  },
  {
   "cell_type": "markdown",
   "metadata": {},
   "source": [
    "### Implicit scheme"
   ]
  },
  {
   "cell_type": "markdown",
   "metadata": {},
   "source": [
    "But sometimes we really want to use a large step size. For example, we might only care about the steady state where $t$ is very large, so we would like to quickly jump to the steady state with very few number of iterations. Implicit method allows us to use a large time step while still keep the solution stable.\n",
    "\n",
    "Backward Eulerian scheme for this problem is\n",
    "\n",
    "$$\n",
    "\\frac{y_{k+1} - y_k}{h} = -ay_{k+1}\n",
    "$$\n",
    "\n",
    "In general, the right hand-side would be some function $f(y_{k+1})$, and we need to solve a nonlinear equation to obtain $y_{k+1}$. This is why this method is called **implicit**. But in this problem here we happen to have a linear function, so we can still write out the iteration explicitly.\n",
    "\n",
    "$$\n",
    "y_{k+1}= \\frac{y_k}{1+ha}\n",
    "$$\n",
    "\n",
    "The solution at the k-th time step can be written as\n",
    "$$\n",
    "y_k= \\frac{y_0}{(1+ha)^k}\n",
    "$$"
   ]
  },
  {
   "cell_type": "markdown",
   "metadata": {},
   "source": [
    "Here are the solutions with different $h$."
   ]
  },
  {
   "cell_type": "code",
   "execution_count": 3,
   "metadata": {},
   "outputs": [
    {
     "data": {
      "image/png": "[encoded data removed]",
      "text/plain": [
       "<IPython.core.display.Image object>"
      ]
     },
     "metadata": {},
     "output_type": "display_data"
    }
   ],
   "source": [
    "%plot -s 400,300\n",
    "\n",
    "% set parameters, can use different value\n",
    "a = 1; \n",
    "y0 = 1;\n",
    "tspan = 10; \n",
    "\n",
    "% build function\n",
    "f_true = @(t) y0*exp(-a*t); % true answer\n",
    "f_backward = @(k,h) (1+h*a).^(-k) * y0; % backward Euler solution\n",
    "\n",
    "% plot true result\n",
    "t_ar = linspace(0, tspan); % for plotting\n",
    "y_true = f_true(t_ar);\n",
    "plot(t_ar, y_true)\n",
    "hold on\n",
    "\n",
    "% plot Forward Euler solution\n",
    "for h=[2.5, 1.5, 0.5] % try different step size\n",
    "    kmax = round(tspan/h);\n",
    "    k_ar = 0:kmax;\n",
    "    t_ar = k_ar*h;\n",
    "    \n",
    "    % we are not doing Forward Euler iteration here\n",
    "    % since the expression is known, we can directly\n",
    "    % get the entire time series\n",
    "    y_backward = f_backward(k_ar, h);\n",
    "    \n",
    "    plot(t_ar, y_backward, '-o')\n",
    "end\n",
    "\n",
    "% tweak details\n",
    "ylim([-0.2,1]);\n",
    "xlabel('t');ylabel('y');\n",
    "legend('true solution', 'h=2.5', 'h=1.5', 'h=0.5' , 'Location', 'Best')"
   ]
  },
  {
   "cell_type": "markdown",
   "metadata": {},
   "source": [
    "Since $\\frac{1}{1+ha}$ is always smaller than 1 for any positive $h$ and postive $a$, $y_k= \\frac{y_k}{(1+ha)^k}$ will always decay. So we don't have the instability problem as in the explicit method. A large $h$ simply gives **inaccurate** results, but not **terribly wrong** results. \n",
    "\n",
    "According to [no free lunch theorm](https://en.wikipedia.org/wiki/No_free_lunch_theorem), implicit methods must have some additional costs (half joking. that's another theorm). The cost for an implicit method is solving a nonlinear system. In general we will have $f(y, t)$ on the right-hand side of the ODE, not simply $-ay$."
   ]
  },
  {
   "cell_type": "markdown",
   "metadata": {},
   "source": [
    "### General form"
   ]
  },
  {
   "cell_type": "markdown",
   "metadata": {},
   "source": [
    "Using $-ay$ on the right-hand side allows a simple analysis, but the idea of ODE stability/instability applies to general ODEs. For example considering a system like\n",
    "\n",
    "\\begin{align}\n",
    "\\frac{dy}{dt} &= -f(t) y\n",
    "\\end{align}\n",
    "\n",
    "You can use the typical magnitude of $f(t)$ as the \"$a$\" in the previous analysis.\n",
    "\n",
    "Even for \n",
    "\\begin{align}\n",
    "\\frac{dy}{dt} &= -f(t) y^2\n",
    "\\end{align}\n",
    "\n",
    "You can consider the typical magnitude of $yf(t)$"
   ]
  },
  {
   "cell_type": "markdown",
   "metadata": {},
   "source": [
    "## Stiff system"
   ]
  },
  {
   "cell_type": "markdown",
   "metadata": {},
   "source": [
    "Consider an ODE system\n",
    "\n",
    "\\begin{align}\n",
    "\\frac{dy_1}{dt} &= -a_1y_1 \\\\\n",
    "\\frac{dy_2}{dt} &= -a_2y_2\n",
    "\\end{align}\n",
    "\n",
    "Using an explicit method, the time step requirement for the first equation is $h<1/a_1$, while the requirement for the second one is $h<1/a_2$. If $a_1 >> a_2$, we have to use a quite small $h$ to accomodate the first requirement, but that's an overkill for the second equation. You will be using too many unnecessary time steps to solve $y_2$\n",
    "\n",
    "We can define the **stiff ratio** $r=\\frac{a_1}{a_2}$. A system is very stiff if $r$ is very large. With explicit methods you often need an unnecessarily large amount of time steps to ensure stability. Implicit methods are particularly useful for a stiff system because it has no instability problem."
   ]
  },
  {
   "cell_type": "markdown",
   "metadata": {},
   "source": [
    "You might want to solve two equations separately so we can use a larger time step for the second equation to save computing power. But it's not that easy because in real examples the two equations are often intertwined:\n",
    "\n",
    "\\begin{align}\n",
    "\\frac{dy_1}{dt} &= -a_1y_1  -a_3y_2 \\\\\n",
    "\\frac{dy_2}{dt} &= -a_2y_2  -a_4y_1\n",
    "\\end{align}"
   ]
  }
 ],
 "metadata": {
  "kernelspec": {
   "display_name": "Matlab",
   "language": "matlab",
   "name": "matlab"
  },
  "language_info": {
   "codemirror_mode": "octave",
   "file_extension": ".m",
   "help_links": [
    {
     "text": "MetaKernel Magics",
     "url": "https://github.com/calysto/metakernel/blob/master/metakernel/magics/README.md"
    }
   ],
   "mimetype": "text/x-matlab",
   "name": "matlab",
   "version": "0.14.3"
  },
  "toc": {
   "nav_menu": {},
   "number_sections": true,
   "sideBar": true,
   "skip_h1_title": false,
   "toc_cell": false,
   "toc_position": {},
   "toc_section_display": "block",
   "toc_window_display": false
  }
 },
 "nbformat": 4,
 "nbformat_minor": 2
}
