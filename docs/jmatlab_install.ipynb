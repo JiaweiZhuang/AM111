{
 "cells": [
  {
   "cell_type": "markdown",
   "metadata": {},
   "source": [
    "# Install Jupyter-MATLAB\n",
    "\n",
    "**Prerequisites**\n",
    "\n",
    "- We assume that you are comfortable with Linux command line. If not, checkout out [Ryans' tutorial](http://ryanstutorials.net/linuxtutorial/commandline.php) for example.\n",
    "\n",
    "- We also assume that you already have MATLAB installed and working. This tutorial is tested successfully with MATLAB R2017a on Mac/Linux/Windows."
   ]
  },
  {
   "cell_type": "markdown",
   "metadata": {},
   "source": [
    "## Install the standard Jupyter-Python notebook\n",
    "\n",
    "Jupyter relies on Python, so the first thing is to [install Anaconda](https://www.continuum.io/downloads), a popular distribution of scientific Python. Experienced users prefer [Miniconda](https://conda.io/miniconda.html) to only install necessary packages, but the standard Anaconda is more convenient for beginners, especially on Windows.\n",
    "\n",
    "Once you have conda installed, you should [test the standard IPython notebook](https://jupyter.readthedocs.io/en/latest/running.html). For example, in the notebook execute"
   ]
  },
  {
   "cell_type": "code",
   "execution_count": 1,
   "metadata": {},
   "outputs": [
    {
     "name": "stdout",
     "output_type": "stream",
     "text": [
      "hello from Python\n"
     ]
    }
   ],
   "source": [
    "%%python\n",
    "# I am in a MATLAB kernel so need to add the above IPython magic to use the python kernel instead.\n",
    "# You can skip this magic in a standard python kernel\n",
    "print('hello from Python')  "
   ]
  },
  {
   "cell_type": "markdown",
   "metadata": {},
   "source": [
    "## On Mac/Linux"
   ]
  },
  {
   "cell_type": "markdown",
   "metadata": {},
   "source": [
    "### (1) Python-side configuration\n",
    "\n",
    "Open the terminal, execute the following command to check your installation of anaconda and python:\n",
    "\n",
    "    which conda pip python\n",
    "    \n",
    "All of them should be inside anaconda's directory \".../anaconda3/bin\"\n",
    "\n",
    "\n",
    "MATLAB R2017a only interfaces with Python3.5, so we need to create a new virtual environment:\n",
    "\n",
    "     conda create -vv -n jmatlab python=3.5 jupyter\n",
    "\n",
    "Enter this Python environment. **Stay in this environment when executing any terminal commands (pip, python, jupyter) for rest of this tutorial.**\n",
    "\n",
    "    source activate jmatlab\n",
    "\n",
    "Then, install the [Matlab kernel for Jupyter](https://github.com/Calysto/matlab_kernel).\n",
    "\n",
    "    pip install matlab_kernel\n",
    "\n",
    "    python -m matlab_kernel install\n",
    "\n",
    "Check if the kernel is installed correctly\n",
    "\n",
    "    jupyter kernelspec list\n",
    "\n",
    "You should see both Python and MATLAB."
   ]
  },
  {
   "cell_type": "markdown",
   "metadata": {},
   "source": [
    "### (2) MATLAB-side configuration\n",
    "\n",
    "Now we need to [expose the MATLAB executable to Jupyter](https://www.mathworks.com/help/matlab/matlab_external/install-the-matlab-engine-for-python.html).\n",
    "\n",
    "Find your MATLAB directory. On Mac it will be like \"/Applications/MATLAB_R2017a.app\". \n",
    "\n",
    "Go to the \"extern/engines/python\" subdirectory and install the Python engine.\n",
    "\n",
    "    cd “/Applications/MATLAB_R2017a.app/extern/engines/python”\n",
    "\n",
    "    python setup.py install"
   ]
  },
  {
   "cell_type": "markdown",
   "metadata": {},
   "source": [
    "### (3) Start Jupyter notebook\n",
    "\n",
    "    cd your_working_directory\n",
    "\n",
    "    jupyter notebook\n",
    "\n",
    "Now you should see both Python and MATLAB options when launching a new notebook. Check if the MATLAB kernel is working by:"
   ]
  },
  {
   "cell_type": "code",
   "execution_count": 2,
   "metadata": {},
   "outputs": [
    {
     "name": "stdout",
     "output_type": "stream",
     "text": [
      "hello from MATLAB\n"
     ]
    }
   ],
   "source": [
    "disp('hello from MATLAB')"
   ]
  },
  {
   "cell_type": "markdown",
   "metadata": {
    "collapsed": true
   },
   "source": [
    "See [Use MATLAB in Jupyter Notebooks](./jmatlab_use.ipynb) for more usages."
   ]
  },
  {
   "cell_type": "markdown",
   "metadata": {},
   "source": [
    "## On Windows\n",
    "\n",
    "Windows is always tricker when it comes to configuring software, but all you need is basically [translating Linux commands into Windows commands](https://www.lemoda.net/windows/windows2unix/windows2unix.html).\n",
    "\n",
    "Commonly used Linux/Mac <-> Windows command mappings are:\n",
    "\n",
    "- `cd folder/subfolder` <-> `cd folder\\subfolder` (type `e:` to change the disk E)\n",
    "- `pwd` <-> `cd`\n",
    "- `ls` <-> `dir`\n",
    "\n",
    "You might also need to [set environment variables](https://superuser.com/questions/949560/how-do-i-set-system-environment-variables-in-windows-10) if commands like \"python\" and \"conda\" cannot be recognized. Add the following directories to the PATH variable:\n",
    "\n",
    "- `path_to_Anaconda_dir\\`\n",
    "- `path_to_Anaconda_dir\\Scripts\\`\n",
    "\n",
    "All steps are exactly the same as in the Mac/Linux section. Windows is indeed a litte bit annoying, but it doesn't prevent Jupyter+MATLAB from working. Please contact me if you have any troubles."
   ]
  }
 ],
 "metadata": {
  "kernelspec": {
   "display_name": "Matlab",
   "language": "matlab",
   "name": "matlab"
  },
  "language_info": {
   "codemirror_mode": "octave",
   "file_extension": ".m",
   "help_links": [
    {
     "text": "MetaKernel Magics",
     "url": "https://github.com/calysto/metakernel/blob/master/metakernel/magics/README.md"
    }
   ],
   "mimetype": "text/x-matlab",
   "name": "matlab",
   "version": "0.14.3"
  }
 },
 "nbformat": 4,
 "nbformat_minor": 2
}
