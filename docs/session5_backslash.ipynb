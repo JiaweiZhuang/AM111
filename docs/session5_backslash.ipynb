{
 "cells": [
  {
   "cell_type": "markdown",
   "metadata": {},
   "source": [
    "# Session 5: MATLAB backslash & some pitfalls\n",
    "\n",
    "Date: 10/16/2017, Monday"
   ]
  },
  {
   "cell_type": "code",
   "execution_count": 1,
   "metadata": {
    "collapsed": true
   },
   "outputs": [],
   "source": [
    "format compact"
   ]
  },
  {
   "cell_type": "markdown",
   "metadata": {},
   "source": [
    "## Different behaviors of backslash"
   ]
  },
  {
   "cell_type": "markdown",
   "metadata": {},
   "source": [
    "You've already used the backslash `\\` a lot to solve linear systems.\n",
    "But if you look at [MATLAB backslash documentation](https://www.mathworks.com/help/matlab/ref/mldivide.html) you will find it can do much more than solving linear systems. This powerful feature can sometimes be very confusing if you are not careful."
   ]
  },
  {
   "cell_type": "markdown",
   "metadata": {},
   "source": [
    "### Standard linear system"
   ]
  },
  {
   "cell_type": "markdown",
   "metadata": {},
   "source": [
    "First see a standard problem: a 4x4, full rank square matrix $A$ and a 4-element column vector $b$.\n",
    "We want to solve\n",
    "$$\n",
    "Ax = b\n",
    "$$"
   ]
  },
  {
   "cell_type": "code",
   "execution_count": 2,
   "metadata": {},
   "outputs": [
    {
     "name": "stdout",
     "output_type": "stream",
     "text": [
      "b =\n",
      "    0.8147\n",
      "    0.9058\n",
      "    0.1270\n",
      "    0.9134\n"
     ]
    }
   ],
   "source": [
    "b = rand(4,1)"
   ]
  },
  {
   "cell_type": "code",
   "execution_count": 3,
   "metadata": {},
   "outputs": [
    {
     "name": "stdout",
     "output_type": "stream",
     "text": [
      "A =\n",
      "    0.6324    0.9575    0.9572    0.4218\n",
      "    0.0975    0.9649    0.4854    0.9157\n",
      "    0.2785    0.1576    0.8003    0.7922\n",
      "    0.5469    0.9706    0.1419    0.9595\n"
     ]
    }
   ],
   "source": [
    "A = rand(4,4)"
   ]
  },
  {
   "cell_type": "markdown",
   "metadata": {},
   "source": [
    "Well, not big deal..."
   ]
  },
  {
   "cell_type": "code",
   "execution_count": 4,
   "metadata": {},
   "outputs": [
    {
     "name": "stdout",
     "output_type": "stream",
     "text": [
      "x =\n",
      "   -0.0486\n",
      "    0.9204\n",
      "   -0.0630\n",
      "    0.0579\n"
     ]
    }
   ],
   "source": [
    "x = A\\b"
   ]
  },
  {
   "cell_type": "markdown",
   "metadata": {},
   "source": [
    "We can verify the result: "
   ]
  },
  {
   "cell_type": "code",
   "execution_count": 5,
   "metadata": {},
   "outputs": [
    {
     "name": "stdout",
     "output_type": "stream",
     "text": [
      "ans =\n",
      "   1.0e-15 *\n",
      "         0\n",
      "         0\n",
      "   -0.0555\n",
      "   -0.1110\n"
     ]
    }
   ],
   "source": [
    "A*x - b % almost zero"
   ]
  },
  {
   "cell_type": "markdown",
   "metadata": {},
   "source": [
    "### Incorrect shape"
   ]
  },
  {
   "cell_type": "markdown",
   "metadata": {},
   "source": [
    "You should already notice that $b$ must be a column vector."
   ]
  },
  {
   "cell_type": "code",
   "execution_count": 6,
   "metadata": {},
   "outputs": [
    {
     "name": "stderr",
     "output_type": "stream",
     "text": [
      "\u001b[0;31mError using \\\n",
      "Matrix dimensions must agree.\n",
      "\u001b[0m"
     ]
    }
   ],
   "source": [
    "x = A\\b' % row vector doesn't work"
   ]
  },
  {
   "cell_type": "markdown",
   "metadata": {},
   "source": [
    "Also, $A$ and $b$ must have the same number of rows, because $A$ and $b$ come from the following linear system with $n$ rows (equations) and $m$ columns (variables):\n",
    "\n",
    "$$\n",
    "\\left\\{\n",
    "\\begin{array}{}\n",
    "a_{11}x_1 + a_{12}x_2 + ... + a_{1m}x_m = b_1 \\\\\n",
    "a_{21}x_1 + a_{22}x_2 + ... + a_{1m}x_m = b_2 \\\\\n",
    "... \\\\\n",
    "a_{n1}x_1 + a_{n2}x_2 + ... + a_{1m}x_m = b_n \\\\\n",
    "\\end{array}\n",
    "\\right.\n",
    "$$"
   ]
  },
  {
   "cell_type": "code",
   "execution_count": 7,
   "metadata": {},
   "outputs": [
    {
     "name": "stdout",
     "output_type": "stream",
     "text": [
      "A =\n",
      "    0.6557    0.9340    0.7431    0.1712\n",
      "    0.0357    0.6787    0.3922    0.7060\n",
      "    0.8491    0.7577    0.6555    0.0318\n"
     ]
    }
   ],
   "source": [
    "A = rand(3,4) % A has 3 rows but b has 4 rows"
   ]
  },
  {
   "cell_type": "code",
   "execution_count": 8,
   "metadata": {},
   "outputs": [
    {
     "name": "stderr",
     "output_type": "stream",
     "text": [
      "\u001b[0;31mError using \\\n",
      "Matrix dimensions must agree.\n",
      "\u001b[0m"
     ]
    }
   ],
   "source": [
    "A\\b % doesn't work"
   ]
  },
  {
   "cell_type": "markdown",
   "metadata": {},
   "source": [
    "Looks like $A$ has to be a square matrix, but see below..."
   ]
  },
  {
   "cell_type": "markdown",
   "metadata": {},
   "source": [
    "### Over-detemined linear system"
   ]
  },
  {
   "cell_type": "markdown",
   "metadata": {},
   "source": [
    "In fact, A doesn't have to be a square matrix, just like a linear system doesn't need to have the same number of rows (equations) and columns (variables). \n",
    "\n",
    "Here we create an over-determined system\n",
    "\n",
    "$$\n",
    "\\left\\{\n",
    "\\begin{array}{}\n",
    "a_{11}x_1 + a_{12}x_2 +  a_{13}x_3 = b_1 \\\\\n",
    "a_{21}x_1 + a_{22}x_2 +  a_{23}x_3 = b_2 \\\\\n",
    "a_{31}x_1 + a_{32}x_2 +  a_{33}x_3 = b_3 \\\\\n",
    "a_{41}x_1 + a_{42}x_2 +  a_{43}x_3 = b_4\n",
    "\\end{array}\n",
    "\\right.\n",
    "$$\n",
    "\n",
    "An **over-determined** system means A is **tall** and **narrow** (more rows than columns)"
   ]
  },
  {
   "cell_type": "code",
   "execution_count": 9,
   "metadata": {},
   "outputs": [
    {
     "name": "stdout",
     "output_type": "stream",
     "text": [
      "A =\n",
      "    0.2769    0.6948    0.4387\n",
      "    0.0462    0.3171    0.3816\n",
      "    0.0971    0.9502    0.7655\n",
      "    0.8235    0.0344    0.7952\n"
     ]
    }
   ],
   "source": [
    "A = rand(4,3) % more equations (rows) than variables (columns)"
   ]
  },
  {
   "cell_type": "code",
   "execution_count": 10,
   "metadata": {},
   "outputs": [
    {
     "name": "stdout",
     "output_type": "stream",
     "text": [
      "x =\n",
      "    0.9798\n",
      "    0.2901\n",
      "    0.2142\n"
     ]
    }
   ],
   "source": [
    "x = A\\b % backslash works"
   ]
  },
  {
   "cell_type": "markdown",
   "metadata": {},
   "source": [
    "MATLAB does return a set of $(x_1,x_2,x_3)$. But you know this can't be the solution because you can't fulfill 4 equations by just 3 degrees of freedom."
   ]
  },
  {
   "cell_type": "code",
   "execution_count": 11,
   "metadata": {},
   "outputs": [
    {
     "name": "stdout",
     "output_type": "stream",
     "text": [
      "ans =\n",
      "   -0.2479\n",
      "   -0.6868\n",
      "    0.4078\n",
      "    0.0738\n"
     ]
    }
   ],
   "source": [
    "A*x - b % not zero, so x is not a solution"
   ]
  },
  {
   "cell_type": "markdown",
   "metadata": {},
   "source": [
    "So what's `x`? It is actually a least-square fit, same as the result from the normal equation \n",
    "$$A^TAx=A^Tb$$"
   ]
  },
  {
   "cell_type": "code",
   "execution_count": 12,
   "metadata": {},
   "outputs": [
    {
     "name": "stdout",
     "output_type": "stream",
     "text": [
      "ans =\n",
      "    0.9798\n",
      "    0.2901\n",
      "    0.2142\n"
     ]
    }
   ],
   "source": [
    "(A'*A)\\(A'*b) % solve normal equation"
   ]
  },
  {
   "cell_type": "markdown",
   "metadata": {},
   "source": [
    "In MATLAB, simply using `A\\b` is actually more accurate than `(A'*A)\\(A'*b)` for solving least squares, especially for large matrices. That's because the condition number of $A^TA$ could be very large."
   ]
  },
  {
   "cell_type": "code",
   "execution_count": 13,
   "metadata": {},
   "outputs": [
    {
     "name": "stdout",
     "output_type": "stream",
     "text": [
      "ans =\n",
      "    8.7242\n",
      "ans =\n",
      "   76.1114\n"
     ]
    }
   ],
   "source": [
    "cond(A)\n",
    "cond(A'*A)"
   ]
  },
  {
   "cell_type": "markdown",
   "metadata": {},
   "source": [
    "We find $cond(A^TA) = cond(A)^2$. \n",
    "It is not quite large in this tiny case but could explode for large matrices"
   ]
  },
  {
   "cell_type": "markdown",
   "metadata": {},
   "source": [
    "So how to avoid the normal equation?\n",
    "\n",
    "Recall that, for a standard, full rank system $Ax=b$, the code `A\\b` doesn't compute $A^{-1}b$ at all, because $A^{-1}$ is often ill-conditioned. It uses [LU factorization](https://en.wikipedia.org/wiki/LU_decomposition) which is better-conditioned.\n",
    "\n",
    "Similarly, for an over-determined $Ax=b$, the code `A\\b` doesn't compute $A^TA$ at all. It uses [QR factorization](https://en.wikipedia.org/wiki/QR_decomposition) or similar techniques to make the problem better-conditioned."
   ]
  },
  {
   "cell_type": "markdown",
   "metadata": {},
   "source": [
    "### Under-determined linear system"
   ]
  },
  {
   "cell_type": "markdown",
   "metadata": {},
   "source": [
    "Now let's look at an under-determined system\n",
    "\n",
    "$$\n",
    "\\left\\{\n",
    "\\begin{array}{}\n",
    "a_{11}x_1 + a_{12}x_2 +  a_{13}x_3 + a_{14}x_4 + a_{15}x_5 = b_1 \\\\\n",
    "a_{21}x_1 + a_{22}x_2 +  a_{23}x_3 + a_{24}x_4 + a_{25}x_5 = b_2 \\\\\n",
    "a_{31}x_1 + a_{32}x_2 +  a_{33}x_3 + a_{34}x_4 + a_{35}x_5 = b_3 \\\\\n",
    "a_{41}x_1 + a_{42}x_2 +  a_{43}x_3 + a_{44}x_4 + a_{45}x_5 = b_4\n",
    "\\end{array}\n",
    "\\right.\n",
    "$$\n",
    "\n",
    "An **under-determined** system means A is **short** and **wide** (more columns than rows)"
   ]
  },
  {
   "cell_type": "code",
   "execution_count": 14,
   "metadata": {},
   "outputs": [
    {
     "name": "stdout",
     "output_type": "stream",
     "text": [
      "A =\n",
      "    0.1869    0.7094    0.6551    0.9597    0.7513\n",
      "    0.4898    0.7547    0.1626    0.3404    0.2551\n",
      "    0.4456    0.2760    0.1190    0.5853    0.5060\n",
      "    0.6463    0.6797    0.4984    0.2238    0.6991\n"
     ]
    }
   ],
   "source": [
    "A = rand(4,5) % less equations (rows) than variables (columns)"
   ]
  },
  {
   "cell_type": "code",
   "execution_count": 15,
   "metadata": {},
   "outputs": [
    {
     "name": "stdout",
     "output_type": "stream",
     "text": [
      "x =\n",
      "   -0.1886\n",
      "    1.4263\n",
      "    0.2995\n",
      "   -0.3730\n",
      "         0\n"
     ]
    }
   ],
   "source": [
    "x = A\\b % backslash still works"
   ]
  },
  {
   "cell_type": "markdown",
   "metadata": {},
   "source": [
    "We can see x is the solution to $Ax=b$:"
   ]
  },
  {
   "cell_type": "code",
   "execution_count": 16,
   "metadata": {},
   "outputs": [
    {
     "name": "stdout",
     "output_type": "stream",
     "text": [
      "ans =\n",
      "   1.0e-15 *\n",
      "    0.4441\n",
      "    0.3331\n",
      "    0.0278\n",
      "    0.1110\n"
     ]
    }
   ],
   "source": [
    "A*x - b % almost zero"
   ]
  },
  {
   "cell_type": "markdown",
   "metadata": {},
   "source": [
    "However, we know that an under-determined system has infinite number of solutions. But MATLAB just returns one value. What's special about this value?\n",
    "\n",
    "It turns out that the `x` we get here has the smallest norm $||x||_2$ among all possible solutions."
   ]
  },
  {
   "cell_type": "code",
   "execution_count": 17,
   "metadata": {},
   "outputs": [
    {
     "name": "stdout",
     "output_type": "stream",
     "text": [
      "ans =\n",
      "    1.5162\n"
     ]
    }
   ],
   "source": [
    "norm(x) % smaller than any other possible solutions"
   ]
  },
  {
   "cell_type": "markdown",
   "metadata": {},
   "source": [
    "## Another multiple-behavior example"
   ]
  },
  {
   "cell_type": "markdown",
   "metadata": {},
   "source": [
    "Because the backslash operator `\\` has different behaviors under different circumstances, you have to be **very careful**. Sometimes your matrix shape might be wrong, but MATLAB will still return a result. But in that case you might be solving a least square problem instead of a full-rank linear system!"
   ]
  },
  {
   "cell_type": "markdown",
   "metadata": {},
   "source": [
    "MATLAB has quite a lot of multi-behavior (\"poly-algorithm\") functions. Another example is the built-in [lu()](https://www.mathworks.com/help/matlab/ref/lu.html) function for LU factorization."
   ]
  },
  {
   "cell_type": "code",
   "execution_count": 18,
   "metadata": {},
   "outputs": [
    {
     "name": "stdout",
     "output_type": "stream",
     "text": [
      "A =\n",
      "    0.8909    0.1493    0.8143    0.1966\n",
      "    0.9593    0.2575    0.2435    0.2511\n",
      "    0.5472    0.8407    0.9293    0.6160\n",
      "    0.1386    0.2543    0.3500    0.4733\n"
     ]
    }
   ],
   "source": [
    "A = rand(4,4) % to be LU-factorized"
   ]
  },
  {
   "cell_type": "markdown",
   "metadata": {},
   "source": [
    "Just calling `lu()` with no return, you get a single matrix with $L$ and $U$ stacked together."
   ]
  },
  {
   "cell_type": "code",
   "execution_count": 19,
   "metadata": {},
   "outputs": [
    {
     "name": "stdout",
     "output_type": "stream",
     "text": [
      "ans =\n",
      "    0.9593    0.2575    0.2435    0.2511\n",
      "    0.5704    0.6938    0.7903    0.4728\n",
      "    0.9287   -0.1295    0.6905    0.0246\n",
      "    0.1445    0.3129    0.0978    0.2867\n"
     ]
    }
   ],
   "source": [
    "lu(A)"
   ]
  },
  {
   "cell_type": "markdown",
   "metadata": {},
   "source": [
    "Using `[L,U]` to hold the return, you get two separate matrices. Notice that `L` is not a strict lower-triangular matrix, because it also incorporates the pivoting matrix $P$"
   ]
  },
  {
   "cell_type": "code",
   "execution_count": 20,
   "metadata": {},
   "outputs": [
    {
     "name": "stdout",
     "output_type": "stream",
     "text": [
      "L =\n",
      "    0.9287   -0.1295    1.0000         0\n",
      "    1.0000         0         0         0\n",
      "    0.5704    1.0000         0         0\n",
      "    0.1445    0.3129    0.0978    1.0000\n",
      "U =\n",
      "    0.9593    0.2575    0.2435    0.2511\n",
      "         0    0.6938    0.7903    0.4728\n",
      "         0         0    0.6905    0.0246\n",
      "         0         0         0    0.2867\n"
     ]
    }
   ],
   "source": [
    "[L,U] = lu(A)"
   ]
  },
  {
   "cell_type": "markdown",
   "metadata": {},
   "source": [
    "Using `[L,U,P]` to hold the return, you get all three matrices. Now `L` is strictly lower-triangular."
   ]
  },
  {
   "cell_type": "code",
   "execution_count": 21,
   "metadata": {},
   "outputs": [
    {
     "name": "stdout",
     "output_type": "stream",
     "text": [
      "L =\n",
      "    1.0000         0         0         0\n",
      "    0.5704    1.0000         0         0\n",
      "    0.9287   -0.1295    1.0000         0\n",
      "    0.1445    0.3129    0.0978    1.0000\n",
      "U =\n",
      "    0.9593    0.2575    0.2435    0.2511\n",
      "         0    0.6938    0.7903    0.4728\n",
      "         0         0    0.6905    0.0246\n",
      "         0         0         0    0.2867\n",
      "P =\n",
      "     0     1     0     0\n",
      "     0     0     1     0\n",
      "     1     0     0     0\n",
      "     0     0     0     1\n"
     ]
    }
   ],
   "source": [
    "[L,U,P] = lu(A)"
   ]
  },
  {
   "cell_type": "markdown",
   "metadata": {},
   "source": [
    "You can ignore the returning `P` by `~`, but keep in mind that the returning `L` is different from that in cell [20], although the code looks very similar."
   ]
  },
  {
   "cell_type": "code",
   "execution_count": 22,
   "metadata": {},
   "outputs": [
    {
     "name": "stdout",
     "output_type": "stream",
     "text": [
      "L =\n",
      "    1.0000         0         0         0\n",
      "    0.5704    1.0000         0         0\n",
      "    0.9287   -0.1295    1.0000         0\n",
      "    0.1445    0.3129    0.0978    1.0000\n",
      "U =\n",
      "    0.9593    0.2575    0.2435    0.2511\n",
      "         0    0.6938    0.7903    0.4728\n",
      "         0         0    0.6905    0.0246\n",
      "         0         0         0    0.2867\n"
     ]
    }
   ],
   "source": [
    "[L,U,~] = lu(A)"
   ]
  }
 ],
 "metadata": {
  "kernelspec": {
   "display_name": "Matlab",
   "language": "matlab",
   "name": "matlab"
  },
  "language_info": {
   "codemirror_mode": "octave",
   "file_extension": ".m",
   "help_links": [
    {
     "text": "MetaKernel Magics",
     "url": "https://github.com/calysto/metakernel/blob/master/metakernel/magics/README.md"
    }
   ],
   "mimetype": "text/x-matlab",
   "name": "matlab",
   "version": "0.14.3"
  },
  "toc": {
   "nav_menu": {},
   "number_sections": true,
   "sideBar": true,
   "skip_h1_title": false,
   "toc_cell": false,
   "toc_position": {
    "height": "476px",
    "left": "0px",
    "right": "auto",
    "top": "105px",
    "width": "212px"
   },
   "toc_section_display": "block",
   "toc_window_display": true
  }
 },
 "nbformat": 4,
 "nbformat_minor": 2
}
