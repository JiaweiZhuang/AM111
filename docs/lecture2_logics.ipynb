{
 "cells": [
  {
   "cell_type": "markdown",
   "metadata": {},
   "source": [
    "# Lecture 2\n",
    "\n",
    "Date: 09/05/2017, Tuesday"
   ]
  },
  {
   "cell_type": "code",
   "execution_count": 1,
   "metadata": {
    "collapsed": true
   },
   "outputs": [],
   "source": [
    "format compact"
   ]
  },
  {
   "cell_type": "markdown",
   "metadata": {},
   "source": [
    "## Logic gates"
   ]
  },
  {
   "cell_type": "markdown",
   "metadata": {},
   "source": [
    "### nand gate"
   ]
  },
  {
   "cell_type": "code",
   "execution_count": 2,
   "metadata": {},
   "outputs": [
    {
     "name": "stdout",
     "output_type": "stream",
     "text": [
      "nand =\n",
      "  function_handle with value:\n",
      "    @(a,b)~(a&b)\n"
     ]
    }
   ],
   "source": [
    "nand = @(a,b) ~(a&b)"
   ]
  },
  {
   "cell_type": "code",
   "execution_count": 3,
   "metadata": {},
   "outputs": [
    {
     "name": "stdout",
     "output_type": "stream",
     "text": [
      "ans =\n",
      "  logical\n",
      "   0\n"
     ]
    }
   ],
   "source": [
    "nand(1,1) % test if it works"
   ]
  },
  {
   "cell_type": "markdown",
   "metadata": {},
   "source": [
    "### print truth table"
   ]
  },
  {
   "cell_type": "code",
   "execution_count": 4,
   "metadata": {},
   "outputs": [
    {
     "name": "stdout",
     "output_type": "stream",
     "text": [
      "  boolean_print_TT_fn.m\n",
      "  a function to print the boolean truth table for a given\n",
      "  supplied function 'func'\n",
      " \n",
      "  INPUT\n",
      "  func: the supplied function (e.g. OR, NAND, XOR)\n",
      "  input_num: number of inputs\n",
      "\n"
     ]
    }
   ],
   "source": [
    "help boolean_print_TT_fn % boolean_print_TT_fn.m is available on canvas"
   ]
  },
  {
   "cell_type": "code",
   "execution_count": 5,
   "metadata": {},
   "outputs": [
    {
     "name": "stdout",
     "output_type": "stream",
     "text": [
      "_______\n",
      "a|b|out\n",
      "0|0| 1 \n",
      "0|1| 1 \n",
      "1|0| 1 \n",
      "1|1| 0 \n"
     ]
    }
   ],
   "source": [
    "boolean_print_TT_fn(nand,2)"
   ]
  },
  {
   "cell_type": "markdown",
   "metadata": {},
   "source": [
    "### build \"not\" gate from \"nand\" gate"
   ]
  },
  {
   "cell_type": "code",
   "execution_count": 6,
   "metadata": {},
   "outputs": [
    {
     "name": "stdout",
     "output_type": "stream",
     "text": [
      "my_not =\n",
      "  function_handle with value:\n",
      "    @(a)nand(a,a)\n"
     ]
    }
   ],
   "source": [
    "my_not = @(a) nand(a,a) % \"not\" is a built-in function so we use my_not to avoid conflicts"
   ]
  },
  {
   "cell_type": "code",
   "execution_count": 7,
   "metadata": {},
   "outputs": [
    {
     "name": "stdout",
     "output_type": "stream",
     "text": [
      "_____\n",
      "a|out\n",
      "0|1 \n",
      "1|0 \n"
     ]
    }
   ],
   "source": [
    "boolean_print_TT_fn(my_not,1)"
   ]
  },
  {
   "cell_type": "markdown",
   "metadata": {},
   "source": [
    "Why **nand(a,a)** means **not**:\n",
    "\n",
    "1. **and(a,a)** = **a**, no matter **a** is 0 or 1\n",
    "2. **nand(a,a)** = **not and(a,a)** = **not a**"
   ]
  }
 ],
 "metadata": {
  "kernelspec": {
   "display_name": "Matlab",
   "language": "matlab",
   "name": "matlab"
  },
  "language_info": {
   "codemirror_mode": "octave",
   "file_extension": ".m",
   "help_links": [
    {
     "text": "MetaKernel Magics",
     "url": "https://github.com/calysto/metakernel/blob/master/metakernel/magics/README.md"
    }
   ],
   "mimetype": "text/x-matlab",
   "name": "matlab",
   "version": "0.14.3"
  }
 },
 "nbformat": 4,
 "nbformat_minor": 2
}
