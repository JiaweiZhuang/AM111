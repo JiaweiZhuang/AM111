{
 "cells": [
  {
   "cell_type": "markdown",
   "metadata": {
    "collapsed": true
   },
   "source": [
    "# Lecture 8: Interpolation\n",
    "\n",
    "Date: 09/26/2017, Tuessday"
   ]
  },
  {
   "cell_type": "code",
   "execution_count": 1,
   "metadata": {
    "collapsed": true
   },
   "outputs": [],
   "source": [
    "format compact"
   ]
  },
  {
   "cell_type": "markdown",
   "metadata": {},
   "source": [
    "## A simple example"
   ]
  },
  {
   "cell_type": "markdown",
   "metadata": {},
   "source": [
    "Make 3 data points"
   ]
  },
  {
   "cell_type": "code",
   "execution_count": 2,
   "metadata": {
    "collapsed": true
   },
   "outputs": [],
   "source": [
    "xp = [-pi/2, 0, pi/2];\n",
    "yp = [-1, 0, 1];"
   ]
  },
  {
   "cell_type": "markdown",
   "metadata": {},
   "source": [
    "The two functions below both go through the 3 data points."
   ]
  },
  {
   "cell_type": "code",
   "execution_count": 3,
   "metadata": {
    "collapsed": true
   },
   "outputs": [],
   "source": [
    "f = @(x) sin(x);\n",
    "g = @(x) 2*x/pi;"
   ]
  },
  {
   "cell_type": "markdown",
   "metadata": {},
   "source": [
    "There are ways to plot a function symbolically/analytically \n",
    "([for example](https://www.mathworks.com/help/symbolic/ezplot.html)),\n",
    "but those methods have a lot of limitations and you don't have detailed controls on them.\n",
    "\n",
    "So we stick to the most standard way of plotting: evaluate the function value on a lot of points to make the line look smooth. "
   ]
  },
  {
   "cell_type": "code",
   "execution_count": 4,
   "metadata": {
    "collapsed": true
   },
   "outputs": [],
   "source": [
    "x = linspace(-2,2,1e3); % a 1000 grid points from -2 to 2"
   ]
  },
  {
   "cell_type": "markdown",
   "metadata": {},
   "source": [
    "Always remember to surpress the output (by `;`) when defining this kind of large array. MATLAB WILL print all the elements in an array/matrix no matter how large it is. Sometimes your program will die just because it wants to print $10^{10}$ numbers.\n",
    "\n",
    "Now we can plot the functions and data points."
   ]
  },
  {
   "cell_type": "code",
   "execution_count": 5,
   "metadata": {},
   "outputs": [
    {
     "data": {
      "image/png": "[encoded data removed]",
      "text/plain": [
       "<IPython.core.display.Image object>"
      ]
     },
     "metadata": {},
     "output_type": "display_data"
    }
   ],
   "source": [
    "%plot --size 300,200\n",
    "hold on\n",
    "plot(xp,yp,'o')\n",
    "plot(x,f(x))\n",
    "plot(x,g(x))\n",
    "legend('data','sin(x)','2x/\\pi','Location','northwest')"
   ]
  },
  {
   "cell_type": "markdown",
   "metadata": {},
   "source": [
    "## Polynomial interpolation"
   ]
  },
  {
   "cell_type": "code",
   "execution_count": 6,
   "metadata": {
    "collapsed": true
   },
   "outputs": [],
   "source": [
    "% make some data points\n",
    "n = 5;\n",
    "px = [0 1 2 3 4];\n",
    "py = [1 2 2 6 9];"
   ]
  },
  {
   "cell_type": "markdown",
   "metadata": {},
   "source": [
    "n data point can be precisely fitted by a n-1 degree polynomial $p=c_1+c_2x+...+c_nx^{n-1}$.\n",
    "\n",
    "The coffeicients $c=[c_1,c_2,...c_n]^T$ satisfy the equation\n",
    "$$\n",
    "Vc=y\n",
    "$$\n",
    "\n",
    "where $y=[y_1,y_2,...,y_n]^T$ is the data points you want to fit, and V is the [vandermode matrix](https://en.wikipedia.org/wiki/Vandermonde_matrix) only containing powers of $x_k$, the data points."
   ]
  },
  {
   "cell_type": "code",
   "execution_count": 7,
   "metadata": {},
   "outputs": [
    {
     "name": "stdout",
     "output_type": "stream",
     "text": [
      "V =\n",
      "     1     0     0     0     0\n",
      "     1     1     1     1     1\n",
      "     1     2     4     8    16\n",
      "     1     3     9    27    81\n",
      "     1     4    16    64   256\n"
     ]
    }
   ],
   "source": [
    "% calculate the vander matrix by loop\n",
    "V = zeros(n);\n",
    "for j=1:5\n",
    "    V(:,j) = px.^(j-1);\n",
    "end\n",
    "V"
   ]
  },
  {
   "cell_type": "markdown",
   "metadata": {},
   "source": [
    "The built-in `vander` is flipped left-right. Both forms are correct as long as your algorithm is consistent with the matrix.\n"
   ]
  },
  {
   "cell_type": "code",
   "execution_count": 8,
   "metadata": {},
   "outputs": [
    {
     "name": "stdout",
     "output_type": "stream",
     "text": [
      "ans =\n",
      "     0     0     0     0     1\n",
      "     1     1     1     1     1\n",
      "    16     8     4     2     1\n",
      "    81    27     9     3     1\n",
      "   256    64    16     4     1\n"
     ]
    }
   ],
   "source": [
    "vander(px)"
   ]
  },
  {
   "cell_type": "markdown",
   "metadata": {},
   "source": [
    "Now we can solve $Vc=y$ by $c=V^{-1}y$. In MATLAB backslash form it is `c=V\\y`. Note that the actual code never computes $V^{-1}$, but use something like LU factorization/Gaussian elimination to solve the system. (it is almost always a bad idea to compute the inverse of a matrix). But thinking about $V^{-1}y$ helps you to remember the order of V and y in the command (e.g. is it `V\\y` or `y\\V` ?).\n",
    "\n",
    "The code below throws an error because y is a row vector."
   ]
  },
  {
   "cell_type": "code",
   "execution_count": 9,
   "metadata": {},
   "outputs": [
    {
     "name": "stderr",
     "output_type": "stream",
     "text": [
      "\u001b[0;31mError using \\\n",
      "Matrix dimensions must agree.\n",
      "\u001b[0m"
     ]
    }
   ],
   "source": [
    "c = V\\py"
   ]
  },
  {
   "cell_type": "markdown",
   "metadata": {},
   "source": [
    "You need a column vector on the right side, just like how you write the equation mathematically."
   ]
  },
  {
   "cell_type": "code",
   "execution_count": 10,
   "metadata": {},
   "outputs": [
    {
     "name": "stdout",
     "output_type": "stream",
     "text": [
      "c =\n",
      "    1.0000\n",
      "    5.6667\n",
      "   -7.5833\n",
      "    3.3333\n",
      "   -0.4167\n"
     ]
    }
   ],
   "source": [
    "c = V\\py'"
   ]
  },
  {
   "cell_type": "markdown",
   "metadata": {},
   "source": [
    "Now we have the coefficients $c$, we can write the polynomial $p=c_1+c_2x+...+c_nx^{n-1}$ as a MATLAB function.\n",
    "\n",
    "Here's a naive way to evaluate the polynomial. You should write a loop instead."
   ]
  },
  {
   "cell_type": "code",
   "execution_count": 11,
   "metadata": {
    "collapsed": true
   },
   "outputs": [],
   "source": [
    "my_ploy = @(c,x) c(1) + c(2)*x + c(3)*x.^2 + c(4)*x.^3 + c(5)*x.^4 ;"
   ]
  },
  {
   "cell_type": "code",
   "execution_count": 12,
   "metadata": {
    "collapsed": true
   },
   "outputs": [],
   "source": [
    "% evaluate the function on a lot of data points\n",
    "xf = linspace(-1,5,100);\n",
    "yf = my_ploy(c,xf);"
   ]
  },
  {
   "cell_type": "code",
   "execution_count": 13,
   "metadata": {},
   "outputs": [
    {
     "data": {
      "image/png": "[encoded data removed]",
      "text/plain": [
       "<IPython.core.display.Image object>"
      ]
     },
     "metadata": {},
     "output_type": "display_data"
    }
   ],
   "source": [
    "%plot --size 400,200\n",
    "hold on\n",
    "plot(px,py,'o')\n",
    "plot(xf,yf)\n",
    "legend('data','interpolation','Location','southeast')"
   ]
  }
 ],
 "metadata": {
  "kernelspec": {
   "display_name": "Matlab",
   "language": "matlab",
   "name": "matlab"
  },
  "language_info": {
   "codemirror_mode": "octave",
   "file_extension": ".m",
   "help_links": [
    {
     "text": "MetaKernel Magics",
     "url": "https://github.com/calysto/metakernel/blob/master/metakernel/magics/README.md"
    }
   ],
   "mimetype": "text/x-matlab",
   "name": "matlab",
   "version": "0.14.3"
  },
  "toc": {
   "nav_menu": {},
   "number_sections": true,
   "sideBar": true,
   "skip_h1_title": false,
   "toc_cell": false,
   "toc_position": {},
   "toc_section_display": "block",
   "toc_window_display": false
  }
 },
 "nbformat": 4,
 "nbformat_minor": 2
}
