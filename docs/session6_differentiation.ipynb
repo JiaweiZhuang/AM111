{
 "cells": [
  {
   "cell_type": "markdown",
   "metadata": {},
   "source": [
    "# Session 6: Three ways of differentiation\n",
    "\n",
    "Date: 10/23/2017, Monday"
   ]
  },
  {
   "cell_type": "code",
   "execution_count": 1,
   "metadata": {},
   "outputs": [],
   "source": [
    "format compact"
   ]
  },
  {
   "cell_type": "markdown",
   "metadata": {},
   "source": [
    "There are 3 major ways to compute the derivative $f'(x)$\n",
    "\n",
    "- Symbolic differentiation\n",
    "- Numerical differentiation\n",
    "- Automatic differentiation\n",
    "\n",
    "You are already familiar with the first two. The last one is **not required** by this class, but it is just too good to miss. It is the core of modern deep learning engines like Google's [TensorFlow](https://www.tensorflow.org), which is used for training [AlphaGo Zero](https://www.nature.com/nature/journal/v550/n7676/full/nature24270.html). Here we only give a very basic introduction. Enthusiasts can read\n",
    "*Baydin A G, Pearlmutter B A, Radul A A, et al. Automatic differentiation in machine learning: a survey*\n",
    "\n",
    "Let's compare the pros and cons of each method."
   ]
  },
  {
   "cell_type": "markdown",
   "metadata": {},
   "source": [
    "## Symbolic differentiation"
   ]
  },
  {
   "cell_type": "markdown",
   "metadata": {},
   "source": [
    "### MATLAB toolbox"
   ]
  },
  {
   "cell_type": "markdown",
   "metadata": {},
   "source": [
    "MATLAB provides [symbolic tool box](https://www.mathworks.com/products/symbolic.html) for symbolic differentiation. It can assist your mathetical analysis and can be used to verify the numerical differentiation results."
   ]
  },
  {
   "cell_type": "code",
   "execution_count": 2,
   "metadata": {
    "collapsed": true
   },
   "outputs": [],
   "source": [
    "syms x"
   ]
  },
  {
   "cell_type": "markdown",
   "metadata": {},
   "source": [
    "Consider this function \n",
    "$$\n",
    "f(x) = \\frac{1-e^{-x}}{1+e^{-x}}\n",
    "$$"
   ]
  },
  {
   "cell_type": "code",
   "execution_count": 3,
   "metadata": {},
   "outputs": [
    {
     "name": "stdout",
     "output_type": "stream",
     "text": [
      "f0 =\n",
      "-(exp(-x) - 1)/(exp(-x) + 1)\n"
     ]
    }
   ],
   "source": [
    "f0 = (1-exp(-x))/(1+exp(-x))"
   ]
  },
  {
   "cell_type": "markdown",
   "metadata": {},
   "source": [
    "The first-order derivative is"
   ]
  },
  {
   "cell_type": "code",
   "execution_count": 4,
   "metadata": {},
   "outputs": [
    {
     "name": "stdout",
     "output_type": "stream",
     "text": [
      "f1 =\n",
      "exp(-x)/(exp(-x) + 1) - (exp(-x)*(exp(-x) - 1))/(exp(-x) + 1)^2\n"
     ]
    }
   ],
   "source": [
    "f1 = diff(f0,x)"
   ]
  },
  {
   "cell_type": "markdown",
   "metadata": {},
   "source": [
    "We can keep calculating higher-order derivatives"
   ]
  },
  {
   "cell_type": "code",
   "execution_count": 5,
   "metadata": {},
   "outputs": [
    {
     "name": "stdout",
     "output_type": "stream",
     "text": [
      "f2 =\n",
      "(2*exp(-2*x))/(exp(-x) + 1)^2 - exp(-x)/(exp(-x) + 1) + (exp(-x)*(exp(-x) - 1))/(exp(-x) + 1)^2 - (2*exp(-2*x)*(exp(-x) - 1))/(exp(-x) + 1)^3\n"
     ]
    }
   ],
   "source": [
    "f2 = diff(f1,x)"
   ]
  },
  {
   "cell_type": "code",
   "execution_count": 6,
   "metadata": {},
   "outputs": [
    {
     "name": "stdout",
     "output_type": "stream",
     "text": [
      "f3 =\n",
      "exp(-x)/(exp(-x) + 1) - (6*exp(-2*x))/(exp(-x) + 1)^2 + (6*exp(-3*x))/(exp(-x) + 1)^3 - (exp(-x)*(exp(-x) - 1))/(exp(-x) + 1)^2 + (6*exp(-2*x)*(exp(-x) - 1))/(exp(-x) + 1)^3 - (6*exp(-3*x)*(exp(-x) - 1))/(exp(-x) + 1)^4\n"
     ]
    }
   ],
   "source": [
    "f3 = diff(f2,x)"
   ]
  },
  {
   "cell_type": "code",
   "execution_count": 7,
   "metadata": {},
   "outputs": [
    {
     "name": "stdout",
     "output_type": "stream",
     "text": [
      "f4 =\n",
      "(14*exp(-2*x))/(exp(-x) + 1)^2 - exp(-x)/(exp(-x) + 1) - (36*exp(-3*x))/(exp(-x) + 1)^3 + (24*exp(-4*x))/(exp(-x) + 1)^4 + (exp(-x)*(exp(-x) - 1))/(exp(-x) + 1)^2 - (14*exp(-2*x)*(exp(-x) - 1))/(exp(-x) + 1)^3 + (36*exp(-3*x)*(exp(-x) - 1))/(exp(-x) + 1)^4 - (24*exp(-4*x)*(exp(-x) - 1))/(exp(-x) + 1)^5\n"
     ]
    }
   ],
   "source": [
    "f4 = diff(f3,x)"
   ]
  },
  {
   "cell_type": "code",
   "execution_count": 8,
   "metadata": {},
   "outputs": [
    {
     "name": "stdout",
     "output_type": "stream",
     "text": [
      "f5 =\n",
      "exp(-x)/(exp(-x) + 1) - (30*exp(-2*x))/(exp(-x) + 1)^2 + (150*exp(-3*x))/(exp(-x) + 1)^3 - (240*exp(-4*x))/(exp(-x) + 1)^4 + (120*exp(-5*x))/(exp(-x) + 1)^5 - (exp(-x)*(exp(-x) - 1))/(exp(-x) + 1)^2 + (30*exp(-2*x)*(exp(-x) - 1))/(exp(-x) + 1)^3 - (150*exp(-3*x)*(exp(-x) - 1))/(exp(-x) + 1)^4 + (240*exp(-4*x)*(exp(-x) - 1))/(exp(-x) + 1)^5 - (120*exp(-5*x)*(exp(-x) - 1))/(exp(-x) + 1)^6\n"
     ]
    }
   ],
   "source": [
    "f5 = diff(f4,x)"
   ]
  },
  {
   "cell_type": "markdown",
   "metadata": {},
   "source": [
    "We see the expression becomes more and more complicated for higher-order derivatives,  even though the original $f(x)$ is fairly simple. \n",
    "\n",
    "You can imagine that symbolic diff can be quite inefficient for complicated functions and higher-order derivatives."
   ]
  },
  {
   "cell_type": "markdown",
   "metadata": {},
   "source": [
    "### Convert symbol to function"
   ]
  },
  {
   "cell_type": "markdown",
   "metadata": {},
   "source": [
    "We can [convert MATLAB symbols to functions](https://www.mathworks.com/help/symbolic/matlabfunction.html), and use them to compute numerical values."
   ]
  },
  {
   "cell_type": "code",
   "execution_count": 9,
   "metadata": {},
   "outputs": [
    {
     "name": "stdout",
     "output_type": "stream",
     "text": [
      "f0_func =\n",
      "  function_handle with value:\n",
      "    @(x)-(exp(-x)-1.0)./(exp(-x)+1.0)\n"
     ]
    }
   ],
   "source": [
    "f0_func = matlabFunction(f0)"
   ]
  },
  {
   "cell_type": "markdown",
   "metadata": {},
   "source": [
    "`f0` is converted to a normal MATLAB function. It is different from just copying the symbolic expression to MATLAB codes, as it is vectorized over input `x` (notice the `./`).\n",
    "\n",
    "Same for `f0`'s derivatives:"
   ]
  },
  {
   "cell_type": "code",
   "execution_count": 10,
   "metadata": {
    "collapsed": true
   },
   "outputs": [],
   "source": [
    "f1_func = matlabFunction(f1);\n",
    "f2_func = matlabFunction(f2);\n",
    "f3_func = matlabFunction(f3);\n",
    "f4_func = matlabFunction(f4);\n",
    "f5_func = matlabFunction(f5);"
   ]
  },
  {
   "cell_type": "markdown",
   "metadata": {},
   "source": [
    "Let's plot all the derivatives."
   ]
  },
  {
   "cell_type": "code",
   "execution_count": 11,
   "metadata": {
    "collapsed": true
   },
   "outputs": [],
   "source": [
    "xx = linspace(-3,3,40); % for plot"
   ]
  },
  {
   "cell_type": "code",
   "execution_count": 12,
   "metadata": {},
   "outputs": [
    {
     "data": {
      "image/png": "[encoded data removed]",
      "text/plain": [
       "<IPython.core.display.Image object>"
      ]
     },
     "metadata": {},
     "output_type": "display_data"
    }
   ],
   "source": [
    "%plot -s 400,300\n",
    "hold on\n",
    "plot(xx,f0_func(xx))\n",
    "plot(xx,f1_func(xx))\n",
    "plot(xx,f2_func(xx))\n",
    "plot(xx,f3_func(xx))\n",
    "plot(xx,f4_func(xx))\n",
    "plot(xx,f5_func(xx))\n",
    "legend('f0','f1','f2','f3','f4','f5','Location','SouthEast')"
   ]
  },
  {
   "cell_type": "markdown",
   "metadata": {},
   "source": [
    "## Numerical differentiation"
   ]
  },
  {
   "cell_type": "markdown",
   "metadata": {},
   "source": [
    "Is it possible to use the numerical differentiation we learned in class to approximate the 5-th order derivative? Let's try."
   ]
  },
  {
   "cell_type": "code",
   "execution_count": 13,
   "metadata": {
    "collapsed": true
   },
   "outputs": [],
   "source": [
    "y0 = f0_func(xx); % get numerical data"
   ]
  },
  {
   "cell_type": "code",
   "execution_count": 14,
   "metadata": {},
   "outputs": [
    {
     "name": "stdout",
     "output_type": "stream",
     "text": [
      "dx =\n",
      "    0.1538\n"
     ]
    }
   ],
   "source": [
    "dx = xx(2)-xx(1) % get step size"
   ]
  },
  {
   "cell_type": "markdown",
   "metadata": {},
   "source": [
    "We use the **center difference**, which is much more accurate than **forward** or **backward** difference.\n",
    "\n",
    "$$\n",
    "f'(x) \\approx \\frac{f(x+h)-f(x-h)}{2h}\n",
    "$$"
   ]
  },
  {
   "cell_type": "markdown",
   "metadata": {},
   "source": [
    "For simplicity, we just throw away the end points `x(1)` and `x(end)`. So the resulted gradient array `y1` is shorter than `y0` by 2 elements. You can also use forward or backward diff to approximate the derivates at the end points. But here we only focus on internal points."
   ]
  },
  {
   "cell_type": "code",
   "execution_count": 15,
   "metadata": {},
   "outputs": [
    {
     "name": "stdout",
     "output_type": "stream",
     "text": [
      "ans =\n",
      "    38\n"
     ]
    }
   ],
   "source": [
    "y1 = (y0(3:end) - y0(1:end-2)) / (2*dx);\n",
    "length(y1)"
   ]
  },
  {
   "cell_type": "markdown",
   "metadata": {},
   "source": [
    "The numerical diff highly agrees with the symbolic one!"
   ]
  },
  {
   "cell_type": "code",
   "execution_count": 16,
   "metadata": {},
   "outputs": [
    {
     "data": {
      "image/png": "[encoded data removed]",
      "text/plain": [
       "<IPython.core.display.Image object>"
      ]
     },
     "metadata": {},
     "output_type": "display_data"
    }
   ],
   "source": [
    "%plot -s 400,200\n",
    "hold on\n",
    "plot(xx,f1_func(xx))\n",
    "plot(xx(2:end-1),y1,'k.')\n",
    "legend('analytical','numerical','Location','Best')"
   ]
  },
  {
   "cell_type": "markdown",
   "metadata": {},
   "source": [
    "Then we go to 2-nd order:"
   ]
  },
  {
   "cell_type": "code",
   "execution_count": 17,
   "metadata": {},
   "outputs": [
    {
     "name": "stdout",
     "output_type": "stream",
     "text": [
      "ans =\n",
      "    36\n"
     ]
    }
   ],
   "source": [
    "y2 = (y1(3:end) - y1(1:end-2)) / (2*dx);\n",
    "length(y2)"
   ]
  },
  {
   "cell_type": "code",
   "execution_count": 18,
   "metadata": {},
   "outputs": [
    {
     "data": {
      "image/png": "[encoded data removed]",
      "text/plain": [
       "<IPython.core.display.Image object>"
      ]
     },
     "metadata": {},
     "output_type": "display_data"
    }
   ],
   "source": [
    "%plot -s 400,200\n",
    "hold on\n",
    "plot(xx,f2_func(xx))\n",
    "plot(xx(3:end-2),y2,'.k')"
   ]
  },
  {
   "cell_type": "markdown",
   "metadata": {},
   "source": [
    "Also doing well. 3-rd order?"
   ]
  },
  {
   "cell_type": "code",
   "execution_count": 19,
   "metadata": {},
   "outputs": [
    {
     "name": "stdout",
     "output_type": "stream",
     "text": [
      "ans =\n",
      "    34\n"
     ]
    }
   ],
   "source": [
    "y3 = (y2(3:end) - y2(1:end-2)) / (2*dx);\n",
    "length(y3)"
   ]
  },
  {
   "cell_type": "code",
   "execution_count": 20,
   "metadata": {},
   "outputs": [
    {
     "data": {
      "image/png": "[encoded data removed]",
      "text/plain": [
       "<IPython.core.display.Image object>"
      ]
     },
     "metadata": {},
     "output_type": "display_data"
    }
   ],
   "source": [
    "%plot -s 400,200\n",
    "hold on\n",
    "plot(xx,f3_func(xx))\n",
    "plot(xx(4:end-3),y3,'.k')"
   ]
  },
  {
   "cell_type": "markdown",
   "metadata": {},
   "source": [
    "Looks like center diff is doing a really good job.\n",
    "\n",
    "4-th order?"
   ]
  },
  {
   "cell_type": "code",
   "execution_count": 21,
   "metadata": {},
   "outputs": [
    {
     "name": "stdout",
     "output_type": "stream",
     "text": [
      "ans =\n",
      "    32\n"
     ]
    }
   ],
   "source": [
    "y4 = (y3(3:end) - y3(1:end-2)) / (2*dx);\n",
    "length(y4)"
   ]
  },
  {
   "cell_type": "code",
   "execution_count": 22,
   "metadata": {},
   "outputs": [
    {
     "data": {
      "image/png": "[encoded data removed]",
      "text/plain": [
       "<IPython.core.display.Image object>"
      ]
     },
     "metadata": {},
     "output_type": "display_data"
    }
   ],
   "source": [
    "%plot -s 400,200\n",
    "hold on\n",
    "plot(xx,f4_func(xx))\n",
    "plot(xx(5:end-4),y4,'.k')"
   ]
  },
  {
   "cell_type": "markdown",
   "metadata": {},
   "source": [
    "Some points start to deviate, but not too much.\n",
    "\n",
    "5-th order? "
   ]
  },
  {
   "cell_type": "code",
   "execution_count": 23,
   "metadata": {},
   "outputs": [
    {
     "name": "stdout",
     "output_type": "stream",
     "text": [
      "ans =\n",
      "    30\n"
     ]
    }
   ],
   "source": [
    "y5 = (y4(3:end) - y4(1:end-2)) / (2*dx);\n",
    "length(y5)"
   ]
  },
  {
   "cell_type": "code",
   "execution_count": 24,
   "metadata": {},
   "outputs": [
    {
     "data": {
      "image/png": "[encoded data removed]",
      "text/plain": [
       "<IPython.core.display.Image object>"
      ]
     },
     "metadata": {},
     "output_type": "display_data"
    }
   ],
   "source": [
    "%plot -s 400,200\n",
    "hold on\n",
    "plot(xx,f5_func(xx))\n",
    "plot(xx(6:end-5),y5,'.k')"
   ]
  },
  {
   "cell_type": "markdown",
   "metadata": {},
   "source": [
    "Now we get some noticeable error! The relative error at the peak is ~10%."
   ]
  },
  {
   "cell_type": "code",
   "execution_count": 25,
   "metadata": {},
   "outputs": [
    {
     "name": "stdout",
     "output_type": "stream",
     "text": [
      "ans =\n",
      "   0.455250196326829\n",
      "ans =\n",
      "   0.493735580546680\n"
     ]
    }
   ],
   "source": [
    "format long\n",
    "max(y5) % numerical\n",
    "max(f5_func(xx))  % analytical"
   ]
  },
  {
   "cell_type": "markdown",
   "metadata": {},
   "source": [
    "Even though the center diff is doing a really good job for low-order derivatives, the  error accumulates as the order gets higher. The situation will be even worse for forward or backward diff. Also, the $f(x)$ we choose here is pretty smooth. For a steep $f(x)$, numerical differentiation tends to perform badly.\n",
    "\n",
    "You might want to use symbolic differentiation instead, but it could be very slow for complicated functions. Is there a better method?"
   ]
  },
  {
   "cell_type": "markdown",
   "metadata": {},
   "source": [
    "## Automatic differentiation"
   ]
  },
  {
   "cell_type": "markdown",
   "metadata": {},
   "source": [
    "### Theoretical explanation"
   ]
  },
  {
   "cell_type": "markdown",
   "metadata": {},
   "source": [
    "[Automatic differentiation](https://en.wikipedia.org/wiki/Automatic_differentiation) (\"autodiff\" for short) kind of gets the best of both worlds.\n",
    "\n",
    "- It is not numerical differentiation. Autodiff has no truncation error. The result is as accurate as symbolic method.\n",
    "- It is not symbolic differentiation. Autodiff doens't compute the complicated symbolic/analytical expression, so it is much faster than the symbolic way."
   ]
  },
  {
   "cell_type": "markdown",
   "metadata": {},
   "source": [
    "How can this magic happen? The easiest explanation is using [dual numbers](https://en.wikipedia.org/wiki/Automatic_differentiation#Automatic_differentiation_using_dual_numbers)."
   ]
  },
  {
   "cell_type": "markdown",
   "metadata": {},
   "source": [
    "Consider $f(x) = x^2$. Instead of using a real number like 1.0 or 1.5 as the function input, we use a dual number \n",
    "$$\n",
    "x+\\epsilon \n",
    "$$\n",
    "\n",
    "where $x$ is still a normal number but $\\epsilon$ is a special number with property \n",
    "\n",
    "$$\n",
    "\\epsilon^2 = 0\n",
    "$$\n",
    "\n",
    "It is analogous to the imaginary unit $i$. You can add or multiply $i$ as usual, but whenever you encounter $i^2$, replace it by -1. Similarly, you can add or multiply $\\epsilon$ as usual, but when ever you encounter $\\epsilon^2$, replace it by 0. \n",
    "\n",
    "$$\n",
    "f(x+\\epsilon) = x^2 + 2x\\epsilon +\\epsilon^2 = x^2 + 2x\\epsilon\n",
    "$$\n",
    "\n",
    "The coefficient of $\\epsilon$ is?\n",
    "\n",
    "$2x$ !! which is just $f'(x)$\n",
    "\n",
    "We didn't perform any \"differentiating\" at all. Just by carrying an additional \"number\" $\\epsilon$ through a function, we got the derivative of that function as well.\n",
    "\n",
    "Let's see another example $f(x) = x^3$\n",
    "\n",
    "$$\n",
    "(x+\\epsilon)^3 = x^3 + 3x^2\\epsilon +3x\\epsilon^2 + \\epsilon^3= x^3 + 3x^2\\epsilon\n",
    "$$\n",
    "\n",
    "The coeffcient is $3x^2$, which is just the derivative of $x^3$.\n",
    "\n",
    "How about special functions like $f(x) = e^x$?\n",
    "\n",
    "$$\n",
    "e^{x+\\epsilon} = e^{x}e^{\\epsilon} =\n",
    "e^{x}(1+\\epsilon+\\frac{1}{2}\\epsilon^2 + ... = e^{x}(1+\\epsilon)\n",
    "$$\n",
    "\n",
    "The coeffcient of $\\epsilon$ is $e^x$, again is the derivative of $e^x$. (If you wonder how can a computer know the Taylor expansion of $e^{\\epsilon}$, think about how can a computer calculate $e^x$)"
   ]
  },
  {
   "cell_type": "markdown",
   "metadata": {},
   "source": [
    "### Code example"
   ]
  },
  {
   "cell_type": "markdown",
   "metadata": {},
   "source": [
    "MATLAB doesn't have a good autodiff tool, so we use a Python package [autograd](https://github.com/HIPS/autograd) developed by *Harvard Intelligent Probabilistic Systems Group*.\n",
    "\n",
    "**You don't need to try this package right now (since this is not a Python class), but just keep in mind that if you need a fast and accurate way to compute derivative, there are such tools exist.**\n",
    "\n",
    "Don't worry if you don't know Python. We will explain as it goes."
   ]
  },
  {
   "cell_type": "code",
   "execution_count": 1,
   "metadata": {
    "collapsed": true
   },
   "outputs": [],
   "source": [
    "%matplotlib inline\n",
    "import matplotlib.pyplot as plt # contains all plotting functions\n",
    "import autograd.numpy as np # contains all basic numerical functions\n",
    "from autograd import grad # autodiff tool"
   ]
  },
  {
   "cell_type": "markdown",
   "metadata": {},
   "source": [
    "We still differentiate $f(x) = \\frac{1-e^{-x}}{1+e^{-x}}$ as in the MATLAB section."
   ]
  },
  {
   "cell_type": "code",
   "execution_count": 2,
   "metadata": {
    "collapsed": true
   },
   "outputs": [],
   "source": [
    "# Define a Python function\n",
    "# Python has no \"end\" statement\n",
    "# It uses code indentation to determine the end of each block\n",
    "def f0(x):                 \n",
    "    y = np.exp(-x)\n",
    "    return (1.0 - y) / (1.0 + y)"
   ]
  },
  {
   "cell_type": "code",
   "execution_count": 3,
   "metadata": {
    "collapsed": true
   },
   "outputs": [],
   "source": [
    "# grad(f0) returns the gradient of f0\n",
    "# f1 is not a symbolic expression!\n",
    "# It is just a normal numerical function, \n",
    "# but it returns the exact gradient thanks to the autodiff magic\n",
    "f1 = grad(f0)\n",
    "f2 = grad(f1)\n",
    "f3 = grad(f2)\n",
    "f4 = grad(f3)\n",
    "f5 = grad(f4)"
   ]
  },
  {
   "cell_type": "code",
   "execution_count": 4,
   "metadata": {
    "collapsed": true
   },
   "outputs": [],
   "source": [
    "xx = np.linspace(-3, 3, 40) # for plot"
   ]
  },
  {
   "cell_type": "code",
   "execution_count": 5,
   "metadata": {},
   "outputs": [
    {
     "data": {
      "image/png": "[encoded data removed]",
      "text/plain": [
       "<matplotlib.figure.Figure at 0x10f3023c8>"
      ]
     },
     "metadata": {},
     "output_type": "display_data"
    }
   ],
   "source": [
    "# plot all derivatives\n",
    "# as in cell[12] of the MATLAB section\n",
    "plt.plot(xx, f0(xx), label='f0')\n",
    "plt.plot(xx, f1(xx), label='f1')\n",
    "plt.plot(xx, f2(xx), label='f2')\n",
    "plt.plot(xx, f3(xx), label='f3')\n",
    "plt.plot(xx, f4(xx), label='f4')\n",
    "plt.plot(xx, f5(xx), label='f5')\n",
    "plt.legend();"
   ]
  },
  {
   "cell_type": "markdown",
   "metadata": {},
   "source": [
    "The peak of the 5-th order derivative is the same as the result given by MATLAB symbolic tool box. There's no truncation error here."
   ]
  },
  {
   "cell_type": "code",
   "execution_count": 6,
   "metadata": {},
   "outputs": [
    {
     "data": {
      "text/plain": [
       "0.49373558054667849"
      ]
     },
     "execution_count": 6,
     "metadata": {},
     "output_type": "execute_result"
    }
   ],
   "source": [
    "f5(xx).max() # the result is exact."
   ]
  },
  {
   "cell_type": "markdown",
   "metadata": {},
   "source": [
    "While being able to give the exact result, autodiff is much faster than the symbolic way!"
   ]
  },
  {
   "cell_type": "markdown",
   "metadata": {},
   "source": [
    "### Another code example: differentiating custom programs"
   ]
  },
  {
   "cell_type": "markdown",
   "metadata": {},
   "source": [
    "Another advantage of autodiff is that it can differentiate arbitrary **programs**, not just **mathematical expressions**. Many complicated functions cannot be expressed by a combination of basic functions (e.g. the Bessel function in HW5), and in this case symbolic diff will have trouble. \n",
    "\n",
    "However, the theory of autodiff is simply \"carrying an additional number through your program\", so as long as you can **code** the program, you can differentiate it. The dual number will just go through all `while` and `if` statements as usual."
   ]
  },
  {
   "cell_type": "markdown",
   "metadata": {},
   "source": [
    "Let's make a weird funcition."
   ]
  },
  {
   "cell_type": "code",
   "execution_count": 7,
   "metadata": {
    "collapsed": true
   },
   "outputs": [],
   "source": [
    "def custom_func(x):\n",
    "    assert x > 0 # raise an error for negative x\n",
    "    \n",
    "    y = 0 # initial value\n",
    "    \n",
    "    # Again, Python has no \"end\" statement\n",
    "    # It uses code indentation to determine the end of this while block\n",
    "    while y+x < 10:\n",
    "        y += x\n",
    "    \n",
    "    return y"
   ]
  },
  {
   "cell_type": "markdown",
   "metadata": {},
   "source": [
    "This function initializes `y` as `0` and keeps accumulating the input `x` to `y`, until `y` reaches 10. In other words\n",
    "\n",
    "- `y` is a multiple of `x`, i.e. `y=N*x`.\n",
    "- `y` is smaller than but very close to `10`"
   ]
  },
  {
   "cell_type": "markdown",
   "metadata": {},
   "source": [
    "For $x=1$, $f(x)=9x=9$, because $10x$ will exceed 10. "
   ]
  },
  {
   "cell_type": "code",
   "execution_count": 8,
   "metadata": {},
   "outputs": [
    {
     "data": {
      "text/plain": [
       "9.0"
      ]
     },
     "execution_count": 8,
     "metadata": {},
     "output_type": "execute_result"
    }
   ],
   "source": [
    "custom_func(1.0)"
   ]
  },
  {
   "cell_type": "markdown",
   "metadata": {},
   "source": [
    "For $x=1.2$, $f(x)=8x=9.6$, because $9x=10.8$ will exceed 10. "
   ]
  },
  {
   "cell_type": "code",
   "execution_count": 9,
   "metadata": {},
   "outputs": [
    {
     "data": {
      "text/plain": [
       "9.6"
      ]
     },
     "execution_count": 9,
     "metadata": {},
     "output_type": "execute_result"
    }
   ],
   "source": [
    "custom_func(1.2)"
   ]
  },
  {
   "cell_type": "markdown",
   "metadata": {},
   "source": [
    "We can still take derivative of this weird function."
   ]
  },
  {
   "cell_type": "code",
   "execution_count": 10,
   "metadata": {
    "collapsed": true
   },
   "outputs": [],
   "source": [
    "custom_grad = grad(custom_func) # autodiff magic"
   ]
  },
  {
   "cell_type": "markdown",
   "metadata": {},
   "source": [
    "For $x=1$, $f(x)=9x$, so $f'(x)=9$"
   ]
  },
  {
   "cell_type": "code",
   "execution_count": 11,
   "metadata": {},
   "outputs": [
    {
     "name": "stdout",
     "output_type": "stream",
     "text": [
      "9.0\n"
     ]
    }
   ],
   "source": [
    "print(custom_grad(1.0))"
   ]
  },
  {
   "cell_type": "markdown",
   "metadata": {},
   "source": [
    "For $x=1$, $f(x)=8x$, so $f'(x)=8$"
   ]
  },
  {
   "cell_type": "code",
   "execution_count": 12,
   "metadata": {},
   "outputs": [
    {
     "name": "stdout",
     "output_type": "stream",
     "text": [
      "8.0\n"
     ]
    }
   ],
   "source": [
    "print(custom_grad(1.2))"
   ]
  },
  {
   "cell_type": "markdown",
   "metadata": {},
   "source": [
    "Symbolic diff will have a big trouble with this kind of function."
   ]
  },
  {
   "cell_type": "markdown",
   "metadata": {},
   "source": [
    "## So why use numerical differentiation?"
   ]
  },
  {
   "cell_type": "markdown",
   "metadata": {
    "collapsed": true
   },
   "source": [
    "If autodiff is so powerful, why do we need other methods? Well, you need symbolic diff for pure mathematical analysis. But how about numerical diff?\n",
    "\n",
    "Well, the major application of numerical diff (forward difference, etc.) is not getting the derivative of a known function $f(x)$. It is for solving differential equations\n",
    "\n",
    "$$\n",
    "f'(x) = \\Phi(f,x)\n",
    "$$\n",
    "\n",
    "In this case, $f(x)$ is not known (your goal is to find it), so symbol diff or autodiff can't help you. Numerical diff gives you a way to solve this ODE\n",
    "$$\n",
    "\\frac{f(x+h) - f(x)}{h} \\approx f'(x)  = \\Phi(f,x)\n",
    "$$"
   ]
  }
 ],
 "metadata": {
  "kernelspec": {
   "display_name": "Python 3",
   "language": "python",
   "name": "python3"
  },
  "language_info": {
   "codemirror_mode": {
    "name": "ipython",
    "version": 3
   },
   "file_extension": ".py",
   "mimetype": "text/x-python",
   "name": "python",
   "nbconvert_exporter": "python",
   "pygments_lexer": "ipython3",
   "version": "3.6.2"
  },
  "toc": {
   "nav_menu": {},
   "number_sections": true,
   "sideBar": false,
   "skip_h1_title": false,
   "toc_cell": false,
   "toc_position": {
    "height": "200px",
    "left": "1px",
    "right": "20px",
    "top": "105px",
    "width": "212px"
   },
   "toc_section_display": "block",
   "toc_window_display": true
  }
 },
 "nbformat": 4,
 "nbformat_minor": 2
}
